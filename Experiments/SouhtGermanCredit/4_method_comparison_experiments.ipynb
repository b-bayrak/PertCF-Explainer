{
 "cells": [
  {
   "cell_type": "code",
   "execution_count": 70,
   "id": "8f29e9a9",
   "metadata": {},
   "outputs": [
    {
     "data": {
      "text/plain": [
       "'./../../myCBR_projects/creditt.prj'"
      ]
     },
     "execution_count": 70,
     "metadata": {},
     "output_type": "execute_result"
    }
   ],
   "source": [
    "shutil.copy2('./../../myCBR_projects/creditt_yedek.prj', './../../myCBR_projects/creditt.prj') # complete target filename given"
   ]
  },
  {
   "cell_type": "code",
   "execution_count": 1,
   "id": "f98239c2",
   "metadata": {},
   "outputs": [],
   "source": [
    "import shutil\n",
    "import warnings\n",
    "import sys\n",
    "\n",
    "warnings.filterwarnings(\"ignore\")\n",
    "sys.path.append('../../')\n",
    "sys.path.append('../')"
   ]
  },
  {
   "cell_type": "code",
   "execution_count": 2,
   "id": "7ad4b749",
   "metadata": {},
   "outputs": [],
   "source": [
    "import seaborn as sns\n",
    "import matplotlib.pyplot as plt\n",
    "import random\n",
    "import pickle\n",
    "from PertCF import *"
   ]
  },
  {
   "cell_type": "code",
   "execution_count": 24,
   "id": "afb8c88d",
   "metadata": {},
   "outputs": [],
   "source": [
    "# Set random seed\n",
    "random_state = random.randint(0, 100)\n",
    "\n",
    "# Concept name\n",
    "concept = 'credit'\n",
    "\n",
    "column_names = ['status', 'duration', 'credit_history', 'purpose', 'amount', 'savings',\n",
    "       'employment_duration', 'installment_rate',\n",
    "       'other_debtors', 'present_residence', 'property', 'age',\n",
    "       'other_installment_plans', 'housing', 'number_credits', 'job',\n",
    "       'people_liable', 'telephone', 'foreign_worker', 'credit_risk']\n",
    "train_cols= column_names[:-1]\n",
    "\n",
    "label = 'credit_risk'\n",
    "\n",
    "class_names = ['0','1']\n",
    "\n",
    "\n",
    "num_cols = ['duration','amount','age']\n",
    "cat_feat = ['status', 'credit_history', 'purpose', 'savings','employment_duration', \n",
    "            'installment_rate', 'other_debtors', 'present_residence', \n",
    "            'property', 'other_installment_plans', 'housing', 'number_credits', 'job',\n",
    "            'people_liable', 'telephone', 'foreign_worker']\n",
    "\n",
    "\n",
    "# Read data\n",
    "train = pd.read_pickle('./Data/train.pkl')\n",
    "test =  pd.read_pickle('./Data/test.pkl')#.tail(10)\n",
    "\n",
    "\n",
    "#train[label] = train[label].astype('object')\n",
    "#test[label] = test[label].astype('string')\n",
    "\n",
    "for i in num_cols:\n",
    "    train[i] = train[i].astype('float')\n",
    "    test[i] = test[i].astype('float')\n",
    "    \n",
    "for i in cat_feat:\n",
    "    train[i] = train[i].astype('object')\n",
    "    test[i] = test[i].astype('object')\n",
    "\n",
    "X_train, X_test, y_train, y_test = train[train_cols], test[train_cols], train[[label]], test[[label]]\n"
   ]
  },
  {
   "cell_type": "code",
   "execution_count": 25,
   "id": "c9474687",
   "metadata": {},
   "outputs": [],
   "source": [
    "def label_dict(df, name):\n",
    "    dic_status = {}\n",
    "    lst = list(df[name].unique())\n",
    "    for i in range(len(lst)):\n",
    "        dic_status[lst[i]] = i \n",
    "    return dic_status\n",
    "\n",
    "def rev(dic):\n",
    "    return {v: k for k, v in dic.items()}\n",
    "\n",
    "# from categoric features to numeric features with maps\n",
    "# from numeric features to categoric features with inv_maps\n",
    "def encode(df, maps):\n",
    "    for i in cat_feat:\n",
    "        df[i] = df[i].map(maps[i]).astype('float')\n",
    "    return df\n",
    "    \n",
    "\n",
    "df = train\n",
    "maps = {'status':label_dict(df,'status'), 'credit_history':label_dict(df,'credit_history'), \n",
    "        'purpose':label_dict(df,'purpose'), 'savings':label_dict(df,'savings'),\n",
    "        'employment_duration':label_dict(df,'employment_duration'), \n",
    "        'installment_rate':label_dict(df,'installment_rate'), 'other_debtors':label_dict(df,'other_debtors'), \n",
    "        'present_residence':label_dict(df,'present_residence'), 'property':label_dict(df,'property'), \n",
    "        'other_installment_plans':label_dict(df,'other_installment_plans'), 'housing':label_dict(df,'housing'), \n",
    "        'number_credits':label_dict(df,'number_credits'), 'job':label_dict(df,'job'),\n",
    "        'people_liable':label_dict(df,'people_liable'), 'telephone':label_dict(df,'telephone'), \n",
    "        'foreign_worker':label_dict(df,'foreign_worker'),'credit_risk':label_dict(df,'credit_risk')}\n",
    "\n",
    "inv_maps = {'status':rev(maps.get('status')), 'credit_history':rev(maps.get('credit_history')), \n",
    "        'purpose':rev(maps.get('purpose')), 'savings':rev(maps.get('savings')),\n",
    "        'employment_duration':rev(maps.get('employment_duration')), \n",
    "        'installment_rate':rev(maps.get('installment_rate')), 'other_debtors':rev(maps.get('other_debtors')), \n",
    "        'present_residence':rev(maps.get('present_residence')), 'property':rev(maps.get('property')), \n",
    "        'other_installment_plans':rev(maps.get('other_installment_plans')), 'housing':rev(maps.get('housing')), \n",
    "        'number_credits':rev(maps.get('number_credits')), 'job':rev(maps.get('job')),\n",
    "        'people_liable':rev(maps.get('people_liable')), 'telephone':rev(maps.get('telephone')), \n",
    "        'foreign_worker':rev(maps.get('foreign_worker')),'credit_risk':rev(maps.get('credit_risk'))}\n"
   ]
  },
  {
   "cell_type": "code",
   "execution_count": 26,
   "id": "861e608c",
   "metadata": {},
   "outputs": [],
   "source": [
    "# encoding for training the model\n",
    "#X_en = encode(X.copy(), maps)\n",
    "X_train_en, X_test_en = encode(X_train.copy(), maps), encode(X_test.copy(), maps)\n",
    "train_en = encode(train.copy(), maps)\n",
    "test_en = encode(test.copy(), maps)\n",
    "\n",
    "# load model\n",
    "model = pickle.load(open('./Model/model_GBC.pkl', \"rb\"))\n",
    "\n",
    "# load shap_df\n",
    "shap_df = pd.read_pickle(\"./temp_files/shap_df.pkl\")"
   ]
  },
  {
   "cell_type": "code",
   "execution_count": 38,
   "id": "8bbd4488",
   "metadata": {},
   "outputs": [
    {
     "name": "stdout",
     "output_type": "stream",
     "text": [
      "Given Shap values used.\n",
      "\n",
      "API connection completed.\n",
      "\n",
      "Concept names:  ['credit']  Is correct:  True \n",
      "\n",
      "Casebase names:  [['cb_class1'], ['cb_temp'], ['cb_class0']] \n",
      "\n",
      "Cases deleted from concept 'credit': True\n",
      "\n",
      "Cases imported to the casebases. \n",
      "\n",
      "Amalgamation functions created for every class using shap values. \n",
      "\n"
     ]
    }
   ],
   "source": [
    "num_iter = 5\n",
    "explainer = Explainer(model, X_train, X_test, y_train.iloc[70:76], y_test[70:76], label, cat_feat, concept, shap_df=shap_df, maps=maps, inv_maps=inv_maps, num_iter=num_iter)\n",
    "#60:70"
   ]
  },
  {
   "cell_type": "code",
   "execution_count": 39,
   "id": "4533bd86",
   "metadata": {
    "scrolled": true
   },
   "outputs": [
    {
     "name": "stdout",
     "output_type": "stream",
     "text": [
      "5\n"
     ]
    }
   ],
   "source": [
    "cf_list, res_list = explainer.testGenerateCF(coef_thresh = 5)"
   ]
  },
  {
   "cell_type": "code",
   "execution_count": 40,
   "id": "595e1a85",
   "metadata": {},
   "outputs": [
    {
     "data": {
      "text/plain": [
       "[0.05170220515696446,\n",
       " 0.7982456140350876,\n",
       " 0.05181662760226802,\n",
       " 0.4069372812906901]"
      ]
     },
     "execution_count": 40,
     "metadata": {},
     "output_type": "execute_result"
    }
   ],
   "source": [
    "res_list"
   ]
  },
  {
   "cell_type": "code",
   "execution_count": 35,
   "id": "cb1bad94",
   "metadata": {},
   "outputs": [
    {
     "data": {
      "text/plain": [
       "[0.07937478313254408,\n",
       " 0.7789473684210526,\n",
       " 0.0796006095229926,\n",
       " 0.3926246643066406]"
      ]
     },
     "execution_count": 35,
     "metadata": {},
     "output_type": "execute_result"
    }
   ],
   "source": [
    "res_list"
   ]
  },
  {
   "cell_type": "markdown",
   "id": "ec1a3346",
   "metadata": {},
   "source": [
    "-----------"
   ]
  },
  {
   "cell_type": "markdown",
   "id": "8a43d2c6",
   "metadata": {},
   "source": [
    "### DICE"
   ]
  },
  {
   "cell_type": "code",
   "execution_count": 10,
   "id": "87f27ad5",
   "metadata": {},
   "outputs": [],
   "source": [
    "import dice_ml\n",
    "\n",
    "# Dataset for training an ML model\n",
    "d = dice_ml.Data(dataframe=train_en,\n",
    "                 continuous_features=column_names[:-1],\n",
    "                 outcome_name=label)\n",
    "\n",
    "# Pre-trained ML model\n",
    "m = dice_ml.Model(model=model,backend='sklearn')\n",
    "# DiCE explanation instance\n",
    "dice_exp = dice_ml.Dice(d,m)"
   ]
  },
  {
   "cell_type": "code",
   "execution_count": 11,
   "id": "ae4a42a5",
   "metadata": {},
   "outputs": [
    {
     "name": "stderr",
     "output_type": "stream",
     "text": [
      "100%|███████████████████████████████████████████████| 1/1 [00:00<00:00, 12.58it/s]\n",
      "100%|███████████████████████████████████████████████| 1/1 [00:00<00:00, 13.90it/s]\n",
      "100%|███████████████████████████████████████████████| 1/1 [00:00<00:00, 13.51it/s]\n",
      "100%|███████████████████████████████████████████████| 1/1 [00:00<00:00, 13.45it/s]\n",
      "100%|███████████████████████████████████████████████| 1/1 [00:00<00:00, 13.62it/s]\n",
      "100%|███████████████████████████████████████████████| 1/1 [00:00<00:00, 13.59it/s]\n",
      "100%|███████████████████████████████████████████████| 1/1 [00:00<00:00, 13.58it/s]\n",
      "100%|███████████████████████████████████████████████| 1/1 [00:00<00:00, 13.75it/s]\n",
      "100%|███████████████████████████████████████████████| 1/1 [00:00<00:00, 13.58it/s]\n",
      "100%|███████████████████████████████████████████████| 1/1 [00:00<00:00, 13.50it/s]\n",
      "100%|███████████████████████████████████████████████| 1/1 [00:00<00:00, 13.71it/s]\n",
      "100%|███████████████████████████████████████████████| 1/1 [00:00<00:00, 13.73it/s]\n",
      "100%|███████████████████████████████████████████████| 1/1 [00:00<00:00, 13.39it/s]\n",
      "100%|███████████████████████████████████████████████| 1/1 [00:00<00:00, 13.47it/s]\n",
      "100%|███████████████████████████████████████████████| 1/1 [00:00<00:00, 13.47it/s]\n",
      "100%|███████████████████████████████████████████████| 1/1 [00:00<00:00, 13.50it/s]\n",
      "100%|███████████████████████████████████████████████| 1/1 [00:00<00:00, 13.59it/s]\n",
      "100%|███████████████████████████████████████████████| 1/1 [00:00<00:00, 13.53it/s]\n",
      "100%|███████████████████████████████████████████████| 1/1 [00:00<00:00, 13.66it/s]\n",
      "100%|███████████████████████████████████████████████| 1/1 [00:00<00:00, 13.52it/s]\n",
      "100%|███████████████████████████████████████████████| 1/1 [00:00<00:00, 13.66it/s]\n",
      "100%|███████████████████████████████████████████████| 1/1 [00:00<00:00, 13.47it/s]\n",
      "100%|███████████████████████████████████████████████| 1/1 [00:00<00:00, 14.02it/s]\n",
      "100%|███████████████████████████████████████████████| 1/1 [00:00<00:00, 13.62it/s]\n",
      "100%|███████████████████████████████████████████████| 1/1 [00:00<00:00, 13.66it/s]\n",
      "100%|███████████████████████████████████████████████| 1/1 [00:00<00:00, 13.21it/s]\n",
      "100%|███████████████████████████████████████████████| 1/1 [00:00<00:00, 13.59it/s]\n",
      "100%|███████████████████████████████████████████████| 1/1 [00:00<00:00, 13.87it/s]\n",
      "100%|███████████████████████████████████████████████| 1/1 [00:00<00:00, 13.62it/s]\n",
      "100%|███████████████████████████████████████████████| 1/1 [00:00<00:00, 13.89it/s]\n",
      "100%|███████████████████████████████████████████████| 1/1 [00:00<00:00, 13.79it/s]\n",
      "100%|███████████████████████████████████████████████| 1/1 [00:00<00:00, 13.58it/s]\n",
      "100%|███████████████████████████████████████████████| 1/1 [00:00<00:00, 13.63it/s]\n",
      "100%|███████████████████████████████████████████████| 1/1 [00:00<00:00, 14.08it/s]\n",
      "100%|███████████████████████████████████████████████| 1/1 [00:00<00:00, 13.95it/s]\n",
      "100%|███████████████████████████████████████████████| 1/1 [00:00<00:00, 13.71it/s]\n",
      "100%|███████████████████████████████████████████████| 1/1 [00:00<00:00, 13.90it/s]\n",
      "100%|███████████████████████████████████████████████| 1/1 [00:00<00:00, 13.52it/s]\n",
      "100%|███████████████████████████████████████████████| 1/1 [00:00<00:00, 13.61it/s]\n",
      "100%|███████████████████████████████████████████████| 1/1 [00:00<00:00, 13.89it/s]\n",
      "100%|███████████████████████████████████████████████| 1/1 [00:00<00:00, 13.56it/s]\n",
      "100%|███████████████████████████████████████████████| 1/1 [00:00<00:00, 13.76it/s]\n",
      "100%|███████████████████████████████████████████████| 1/1 [00:00<00:00, 13.66it/s]\n",
      "100%|███████████████████████████████████████████████| 1/1 [00:00<00:00, 13.50it/s]\n",
      "100%|███████████████████████████████████████████████| 1/1 [00:00<00:00, 13.71it/s]\n",
      "100%|███████████████████████████████████████████████| 1/1 [00:00<00:00, 13.82it/s]\n",
      "100%|███████████████████████████████████████████████| 1/1 [00:00<00:00, 13.98it/s]\n",
      "100%|███████████████████████████████████████████████| 1/1 [00:00<00:00, 14.28it/s]\n",
      "100%|███████████████████████████████████████████████| 1/1 [00:00<00:00, 13.83it/s]\n",
      "100%|███████████████████████████████████████████████| 1/1 [00:00<00:00, 14.02it/s]\n",
      "100%|███████████████████████████████████████████████| 1/1 [00:00<00:00, 14.31it/s]\n",
      "100%|███████████████████████████████████████████████| 1/1 [00:00<00:00, 14.04it/s]\n",
      "100%|███████████████████████████████████████████████| 1/1 [00:00<00:00, 13.50it/s]\n",
      "100%|███████████████████████████████████████████████| 1/1 [00:00<00:00, 13.70it/s]\n",
      "100%|███████████████████████████████████████████████| 1/1 [00:00<00:00, 13.91it/s]\n",
      "100%|███████████████████████████████████████████████| 1/1 [00:00<00:00, 14.06it/s]\n",
      "100%|███████████████████████████████████████████████| 1/1 [00:00<00:00, 14.27it/s]\n",
      "100%|███████████████████████████████████████████████| 1/1 [00:00<00:00, 14.44it/s]\n",
      "100%|███████████████████████████████████████████████| 1/1 [00:00<00:00, 14.85it/s]\n",
      "100%|███████████████████████████████████████████████| 1/1 [00:00<00:00, 14.15it/s]\n",
      "100%|███████████████████████████████████████████████| 1/1 [00:00<00:00, 14.38it/s]\n",
      "100%|███████████████████████████████████████████████| 1/1 [00:00<00:00, 12.52it/s]\n",
      "100%|███████████████████████████████████████████████| 1/1 [00:00<00:00, 13.86it/s]\n",
      "100%|███████████████████████████████████████████████| 1/1 [00:00<00:00, 14.55it/s]\n",
      "100%|███████████████████████████████████████████████| 1/1 [00:00<00:00, 14.04it/s]\n",
      "100%|███████████████████████████████████████████████| 1/1 [00:00<00:00, 14.29it/s]\n",
      "100%|███████████████████████████████████████████████| 1/1 [00:00<00:00, 13.70it/s]\n",
      "100%|███████████████████████████████████████████████| 1/1 [00:00<00:00, 13.28it/s]\n",
      "100%|███████████████████████████████████████████████| 1/1 [00:00<00:00, 13.95it/s]\n",
      "100%|███████████████████████████████████████████████| 1/1 [00:00<00:00, 14.04it/s]\n",
      "100%|███████████████████████████████████████████████| 1/1 [00:00<00:00, 13.82it/s]\n",
      "100%|███████████████████████████████████████████████| 1/1 [00:00<00:00, 12.87it/s]\n",
      "100%|███████████████████████████████████████████████| 1/1 [00:00<00:00, 13.77it/s]\n",
      "100%|███████████████████████████████████████████████| 1/1 [00:00<00:00, 13.97it/s]\n",
      "100%|███████████████████████████████████████████████| 1/1 [00:00<00:00, 13.68it/s]\n",
      "100%|███████████████████████████████████████████████| 1/1 [00:00<00:00, 13.53it/s]\n",
      "100%|███████████████████████████████████████████████| 1/1 [00:00<00:00, 13.76it/s]\n",
      "100%|███████████████████████████████████████████████| 1/1 [00:00<00:00, 11.73it/s]\n",
      "100%|███████████████████████████████████████████████| 1/1 [00:00<00:00, 14.09it/s]\n",
      "100%|███████████████████████████████████████████████| 1/1 [00:00<00:00, 14.33it/s]\n",
      "100%|███████████████████████████████████████████████| 1/1 [00:00<00:00, 13.97it/s]\n",
      "100%|███████████████████████████████████████████████| 1/1 [00:00<00:00, 14.48it/s]\n",
      "100%|███████████████████████████████████████████████| 1/1 [00:00<00:00, 14.28it/s]\n",
      "100%|███████████████████████████████████████████████| 1/1 [00:00<00:00, 14.30it/s]\n",
      "100%|███████████████████████████████████████████████| 1/1 [00:00<00:00, 14.19it/s]\n",
      "100%|███████████████████████████████████████████████| 1/1 [00:00<00:00, 14.37it/s]\n",
      "100%|███████████████████████████████████████████████| 1/1 [00:00<00:00, 14.10it/s]\n",
      "100%|███████████████████████████████████████████████| 1/1 [00:00<00:00, 14.40it/s]\n",
      "100%|███████████████████████████████████████████████| 1/1 [00:00<00:00, 13.94it/s]\n",
      "100%|███████████████████████████████████████████████| 1/1 [00:00<00:00, 13.80it/s]\n",
      "100%|███████████████████████████████████████████████| 1/1 [00:00<00:00, 14.47it/s]\n",
      "100%|███████████████████████████████████████████████| 1/1 [00:00<00:00, 14.27it/s]\n",
      "100%|███████████████████████████████████████████████| 1/1 [00:00<00:00, 14.60it/s]\n",
      "100%|███████████████████████████████████████████████| 1/1 [00:00<00:00, 14.17it/s]\n",
      "100%|███████████████████████████████████████████████| 1/1 [00:00<00:00, 14.54it/s]\n",
      "100%|███████████████████████████████████████████████| 1/1 [00:00<00:00, 14.05it/s]\n",
      "100%|███████████████████████████████████████████████| 1/1 [00:00<00:00, 14.12it/s]\n",
      "100%|███████████████████████████████████████████████| 1/1 [00:00<00:00, 14.28it/s]\n"
     ]
    },
    {
     "name": "stderr",
     "output_type": "stream",
     "text": [
      "100%|███████████████████████████████████████████████| 1/1 [00:00<00:00, 14.07it/s]\n",
      "100%|███████████████████████████████████████████████| 1/1 [00:00<00:00, 14.06it/s]\n"
     ]
    }
   ],
   "source": [
    "dis_q = []\n",
    "spar_q = []\n",
    "ins_q = []\n",
    "time_q = []\n",
    "\n",
    "for i in range(len(y_test)):\n",
    "    query_instance = test_en.drop(columns=label)[i:i+1]\n",
    "    q_lbl = model.predict(query_instance)[0]#test_en[label][i:i+1].iloc[0]\n",
    "    \n",
    "    t_time = 0\n",
    "\n",
    "    for j in class_names:\n",
    "        if j != q_lbl:\n",
    "            start = t.time()\n",
    "            cf = dice_exp.generate_counterfactuals(query_instance, total_CFs=1, desired_class=int(j)).cf_examples_list[0].final_cfs_df\n",
    "            end = t.time()\n",
    "\n",
    "            for col in explainer.cat_col_names:\n",
    "                cf[col] = cf[col].map(inv_maps[col])\n",
    "                query_instance[col] = query_instance[col].map(inv_maps[col])\n",
    "\n",
    "            dis_q.append(explainer.dissimilarity(query_instance.iloc[0],cf.iloc[0])) \n",
    "            spar_q.append(explainer.sparsity(query_instance.iloc[0],cf.iloc[0]))\n",
    "            ins_q.append(explainer.instability(query_instance.iloc[0],cf.iloc[0]))\n",
    "            t_time += end - start\n",
    "\n",
    "    time_q.append(t_time)\n",
    "\n"
   ]
  },
  {
   "cell_type": "code",
   "execution_count": 12,
   "id": "eba4fb52",
   "metadata": {},
   "outputs": [
    {
     "name": "stdout",
     "output_type": "stream",
     "text": [
      "Dissimilarity: 0.055743620678331544 \n",
      "Sparsity: 0.9110526315789473 \n",
      "Instabilty: 0.05601270058778259 \n",
      "Time: 0.07355323791503907\n"
     ]
    }
   ],
   "source": [
    "print('Dissimilarity:', mean(dis_q), \n",
    "     '\\nSparsity:', mean(spar_q), \n",
    "     '\\nInstabilty:', mean(ins_q),\n",
    "     '\\nTime:', mean(time_q))"
   ]
  },
  {
   "cell_type": "code",
   "execution_count": 13,
   "id": "394a0860",
   "metadata": {},
   "outputs": [],
   "source": [
    "dice_res = [mean(dis_q),mean(spar_q),mean(ins_q), mean(time_q)]"
   ]
  },
  {
   "cell_type": "markdown",
   "id": "0a7af5d3",
   "metadata": {},
   "source": [
    "---"
   ]
  },
  {
   "cell_type": "markdown",
   "id": "e4943399",
   "metadata": {},
   "source": [
    "### CF Shap"
   ]
  },
  {
   "cell_type": "code",
   "execution_count": 14,
   "id": "a60045b0",
   "metadata": {},
   "outputs": [],
   "source": [
    "from cfshap.utils.preprocessing import EfficientQuantileTransformer\n",
    "from cfshap.counterfactuals import KNNCounterfactuals\n",
    "from cfshap.trend import TrendEstimator"
   ]
  },
  {
   "cell_type": "code",
   "execution_count": 15,
   "id": "df7bcf14",
   "metadata": {},
   "outputs": [
    {
     "data": {
      "text/html": [
       "<style>#sk-container-id-1 {color: black;background-color: white;}#sk-container-id-1 pre{padding: 0;}#sk-container-id-1 div.sk-toggleable {background-color: white;}#sk-container-id-1 label.sk-toggleable__label {cursor: pointer;display: block;width: 100%;margin-bottom: 0;padding: 0.3em;box-sizing: border-box;text-align: center;}#sk-container-id-1 label.sk-toggleable__label-arrow:before {content: \"▸\";float: left;margin-right: 0.25em;color: #696969;}#sk-container-id-1 label.sk-toggleable__label-arrow:hover:before {color: black;}#sk-container-id-1 div.sk-estimator:hover label.sk-toggleable__label-arrow:before {color: black;}#sk-container-id-1 div.sk-toggleable__content {max-height: 0;max-width: 0;overflow: hidden;text-align: left;background-color: #f0f8ff;}#sk-container-id-1 div.sk-toggleable__content pre {margin: 0.2em;color: black;border-radius: 0.25em;background-color: #f0f8ff;}#sk-container-id-1 input.sk-toggleable__control:checked~div.sk-toggleable__content {max-height: 200px;max-width: 100%;overflow: auto;}#sk-container-id-1 input.sk-toggleable__control:checked~label.sk-toggleable__label-arrow:before {content: \"▾\";}#sk-container-id-1 div.sk-estimator input.sk-toggleable__control:checked~label.sk-toggleable__label {background-color: #d4ebff;}#sk-container-id-1 div.sk-label input.sk-toggleable__control:checked~label.sk-toggleable__label {background-color: #d4ebff;}#sk-container-id-1 input.sk-hidden--visually {border: 0;clip: rect(1px 1px 1px 1px);clip: rect(1px, 1px, 1px, 1px);height: 1px;margin: -1px;overflow: hidden;padding: 0;position: absolute;width: 1px;}#sk-container-id-1 div.sk-estimator {font-family: monospace;background-color: #f0f8ff;border: 1px dotted black;border-radius: 0.25em;box-sizing: border-box;margin-bottom: 0.5em;}#sk-container-id-1 div.sk-estimator:hover {background-color: #d4ebff;}#sk-container-id-1 div.sk-parallel-item::after {content: \"\";width: 100%;border-bottom: 1px solid gray;flex-grow: 1;}#sk-container-id-1 div.sk-label:hover label.sk-toggleable__label {background-color: #d4ebff;}#sk-container-id-1 div.sk-serial::before {content: \"\";position: absolute;border-left: 1px solid gray;box-sizing: border-box;top: 0;bottom: 0;left: 50%;z-index: 0;}#sk-container-id-1 div.sk-serial {display: flex;flex-direction: column;align-items: center;background-color: white;padding-right: 0.2em;padding-left: 0.2em;position: relative;}#sk-container-id-1 div.sk-item {position: relative;z-index: 1;}#sk-container-id-1 div.sk-parallel {display: flex;align-items: stretch;justify-content: center;background-color: white;position: relative;}#sk-container-id-1 div.sk-item::before, #sk-container-id-1 div.sk-parallel-item::before {content: \"\";position: absolute;border-left: 1px solid gray;box-sizing: border-box;top: 0;bottom: 0;left: 50%;z-index: -1;}#sk-container-id-1 div.sk-parallel-item {display: flex;flex-direction: column;z-index: 1;position: relative;background-color: white;}#sk-container-id-1 div.sk-parallel-item:first-child::after {align-self: flex-end;width: 50%;}#sk-container-id-1 div.sk-parallel-item:last-child::after {align-self: flex-start;width: 50%;}#sk-container-id-1 div.sk-parallel-item:only-child::after {width: 0;}#sk-container-id-1 div.sk-dashed-wrapped {border: 1px dashed gray;margin: 0 0.4em 0.5em 0.4em;box-sizing: border-box;padding-bottom: 0.4em;background-color: white;}#sk-container-id-1 div.sk-label label {font-family: monospace;font-weight: bold;display: inline-block;line-height: 1.2em;}#sk-container-id-1 div.sk-label-container {text-align: center;}#sk-container-id-1 div.sk-container {/* jupyter's `normalize.less` sets `[hidden] { display: none; }` but bootstrap.min.css set `[hidden] { display: none !important; }` so we also need the `!important` here to be able to override the default hidden behavior on the sphinx rendered scikit-learn.org. See: https://github.com/scikit-learn/scikit-learn/issues/21755 */display: inline-block !important;position: relative;}#sk-container-id-1 div.sk-text-repr-fallback {display: none;}</style><div id=\"sk-container-id-1\" class=\"sk-top-container\"><div class=\"sk-text-repr-fallback\"><pre>EfficientQuantileTransformer()</pre><b>In a Jupyter environment, please rerun this cell to show the HTML representation or trust the notebook. <br />On GitHub, the HTML representation is unable to render, please try loading this page with nbviewer.org.</b></div><div class=\"sk-container\" hidden><div class=\"sk-item\"><div class=\"sk-estimator sk-toggleable\"><input class=\"sk-toggleable__control sk-hidden--visually\" id=\"sk-estimator-id-1\" type=\"checkbox\" checked><label for=\"sk-estimator-id-1\" class=\"sk-toggleable__label sk-toggleable__label-arrow\">EfficientQuantileTransformer</label><div class=\"sk-toggleable__content\"><pre>EfficientQuantileTransformer()</pre></div></div></div></div></div>"
      ],
      "text/plain": [
       "EfficientQuantileTransformer()"
      ]
     },
     "execution_count": 15,
     "metadata": {},
     "output_type": "execute_result"
    }
   ],
   "source": [
    "MAX_SAMPLES = 100\n",
    "\n",
    "# We will need a scaler in the input space for the counterfactual generator\n",
    "scaler = EfficientQuantileTransformer()\n",
    "scaler.fit(X_train_en.values)\n"
   ]
  },
  {
   "cell_type": "code",
   "execution_count": 16,
   "id": "4ef15bc7",
   "metadata": {},
   "outputs": [],
   "source": [
    "\n",
    "# Background/Counterfactuals generator\n",
    "background_generator = KNNCounterfactuals(\n",
    "    model=model,\n",
    "    X=X_train_en.values,\n",
    "    n_neighbors=10,\n",
    "    distance='cityblock',\n",
    "    scaler=scaler,\n",
    "    max_samples=MAX_SAMPLES,\n",
    ")\n",
    "\n",
    "# We will need a trend estimator for the attribution estimator\n",
    "trend_estimator = TrendEstimator(strategy='mean')\n",
    "\n"
   ]
  },
  {
   "cell_type": "code",
   "execution_count": 17,
   "id": "66436386",
   "metadata": {},
   "outputs": [],
   "source": [
    "dis_q = []\n",
    "spar_q = []\n",
    "ins_q = []\n",
    "time_q = []\n",
    "\n",
    "for i in range(len(y_test)):\n",
    "    query_instance = X_test_en.iloc[i:i+1]\n",
    "\n",
    "    start = t.time()\n",
    "    cf = background_generator.get_counterfactuals(query_instance.values)\n",
    "    end = t.time()\n",
    "\n",
    "    cf = pd.DataFrame(cf, columns = column_names[:-1])\n",
    "\n",
    "    for col in explainer.cat_col_names:\n",
    "        cf[col] = cf[col].map(inv_maps[col])\n",
    "        query_instance[col] = query_instance[col].map(inv_maps[col])\n",
    "       \n",
    "    dis_q.append(explainer.dissimilarity(query_instance.iloc[0],cf.iloc[0])) \n",
    "    spar_q.append(explainer.sparsity(query_instance.iloc[0],cf.iloc[0]))\n",
    "    ins_q.append(explainer.instability(query_instance.iloc[0],cf.iloc[0]))\n",
    "    time_q.append(end - start)\n"
   ]
  },
  {
   "cell_type": "code",
   "execution_count": 18,
   "id": "ba522111",
   "metadata": {},
   "outputs": [
    {
     "name": "stdout",
     "output_type": "stream",
     "text": [
      "Dissimilarity: 0.2554875969157437 \n",
      "Sparsity: 0.5842105263157895 \n",
      "Instabilty: 0.25552507080208475 \n",
      "Time: 0.005749523639678955\n"
     ]
    }
   ],
   "source": [
    "print('Dissimilarity:', mean(dis_q), \n",
    "     '\\nSparsity:', mean(spar_q), \n",
    "     '\\nInstabilty:', mean(ins_q),\n",
    "     '\\nTime:', mean(time_q))"
   ]
  },
  {
   "cell_type": "code",
   "execution_count": 19,
   "id": "5be9622e",
   "metadata": {},
   "outputs": [],
   "source": [
    "cf_res = [mean(dis_q),mean(spar_q),mean(ins_q), mean(time_q)]"
   ]
  },
  {
   "cell_type": "code",
   "execution_count": 20,
   "id": "c4a4e71f",
   "metadata": {},
   "outputs": [
    {
     "data": {
      "text/plain": [
       "'./../../myCBR_projects/userKnowledgeModeling.prj'"
      ]
     },
     "execution_count": 20,
     "metadata": {},
     "output_type": "execute_result"
    }
   ],
   "source": [
    "shutil.copy2('./../../myCBR_projects/userKnowledgeModeling_yedek.prj', './../../myCBR_projects/userKnowledgeModeling.prj') # complete target filename given\n"
   ]
  },
  {
   "cell_type": "code",
   "execution_count": 42,
   "id": "964cacf0",
   "metadata": {},
   "outputs": [],
   "source": [
    "df = pd.DataFrame([cf_res,dice_res,res_list], columns=['dissimilarity', 'sparsity', 'instability', 'time'])\n",
    "df['model'] = ['CFshap','DICE','PertCF']"
   ]
  },
  {
   "cell_type": "code",
   "execution_count": 43,
   "id": "12e70dbf",
   "metadata": {},
   "outputs": [
    {
     "data": {
      "image/png": "[encoded data removed]",
      "text/plain": [
       "<Figure size 432x288 with 1 Axes>"
      ]
     },
     "metadata": {},
     "output_type": "display_data"
    }
   ],
   "source": [
    "sns.set_style(\"ticks\")\n",
    "sns.set_context(\"notebook\")\n",
    "\n",
    "sns.barplot(data=df.melt('model'), x=\"variable\", y='value', hue=\"model\", palette = 'Paired')\n",
    "\n",
    "plt.xlabel('Metric')\n",
    "plt.ylabel('Value')\n",
    "\n",
    "plt.savefig('./Output/img/comparison_result.png', dpi=1200, bbox_inches='tight')\n",
    "#display barplot\n",
    "plt.show()"
   ]
  },
  {
   "cell_type": "code",
   "execution_count": 44,
   "id": "5821222b",
   "metadata": {},
   "outputs": [
    {
     "data": {
      "text/html": [
       "<div>\n",
       "<style scoped>\n",
       "    .dataframe tbody tr th:only-of-type {\n",
       "        vertical-align: middle;\n",
       "    }\n",
       "\n",
       "    .dataframe tbody tr th {\n",
       "        vertical-align: top;\n",
       "    }\n",
       "\n",
       "    .dataframe thead th {\n",
       "        text-align: right;\n",
       "    }\n",
       "</style>\n",
       "<table border=\"1\" class=\"dataframe\">\n",
       "  <thead>\n",
       "    <tr style=\"text-align: right;\">\n",
       "      <th></th>\n",
       "      <th>dissimilarity</th>\n",
       "      <th>sparsity</th>\n",
       "      <th>instability</th>\n",
       "      <th>time</th>\n",
       "      <th>model</th>\n",
       "    </tr>\n",
       "  </thead>\n",
       "  <tbody>\n",
       "    <tr>\n",
       "      <th>0</th>\n",
       "      <td>0.255488</td>\n",
       "      <td>0.584211</td>\n",
       "      <td>0.255525</td>\n",
       "      <td>0.005750</td>\n",
       "      <td>CFshap</td>\n",
       "    </tr>\n",
       "    <tr>\n",
       "      <th>1</th>\n",
       "      <td>0.055744</td>\n",
       "      <td>0.911053</td>\n",
       "      <td>0.056013</td>\n",
       "      <td>0.073553</td>\n",
       "      <td>DICE</td>\n",
       "    </tr>\n",
       "    <tr>\n",
       "      <th>2</th>\n",
       "      <td>0.051702</td>\n",
       "      <td>0.798246</td>\n",
       "      <td>0.051817</td>\n",
       "      <td>0.406937</td>\n",
       "      <td>PertCF</td>\n",
       "    </tr>\n",
       "  </tbody>\n",
       "</table>\n",
       "</div>"
      ],
      "text/plain": [
       "   dissimilarity  sparsity  instability      time   model\n",
       "0       0.255488  0.584211     0.255525  0.005750  CFshap\n",
       "1       0.055744  0.911053     0.056013  0.073553    DICE\n",
       "2       0.051702  0.798246     0.051817  0.406937  PertCF"
      ]
     },
     "execution_count": 44,
     "metadata": {},
     "output_type": "execute_result"
    }
   ],
   "source": [
    "df"
   ]
  }
 ],
 "metadata": {
  "kernelspec": {
   "display_name": "Python 3 (ipykernel)",
   "language": "python",
   "name": "python3"
  },
  "language_info": {
   "codemirror_mode": {
    "name": "ipython",
    "version": 3
   },
   "file_extension": ".py",
   "mimetype": "text/x-python",
   "name": "python",
   "nbconvert_exporter": "python",
   "pygments_lexer": "ipython3",
   "version": "3.9.10"
  }
 },
 "nbformat": 4,
 "nbformat_minor": 5
}
