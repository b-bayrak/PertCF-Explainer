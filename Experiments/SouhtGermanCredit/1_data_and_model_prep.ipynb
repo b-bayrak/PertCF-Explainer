{
 "cells": [
  {
   "cell_type": "code",
   "execution_count": 1,
   "id": "45ed1710",
   "metadata": {},
   "outputs": [],
   "source": [
    "import warnings\n",
    "import sys\n",
    "\n",
    "warnings.filterwarnings(\"ignore\")\n",
    "sys.path.append('../../')"
   ]
  },
  {
   "cell_type": "code",
   "execution_count": 2,
   "id": "266d9427",
   "metadata": {},
   "outputs": [],
   "source": [
    "from sklearn.model_selection import train_test_split\n",
    "from sklearn.ensemble import RandomForestClassifier, GradientBoostingClassifier\n",
    "from PertCF import *\n",
    "import pandas as pd\n",
    "import numpy as np\n",
    "import pickle\n",
    "import random"
   ]
  },
  {
   "cell_type": "code",
   "execution_count": 14,
   "id": "4cb4b781",
   "metadata": {},
   "outputs": [],
   "source": [
    "# Set random seed\n",
    "random_state = random.randint(0, 100)\n",
    "\n",
    "# Concept name\n",
    "concept = 'credit'\n",
    "\n",
    "column_names = ['status', 'duration', 'credit_history', 'purpose', 'amount', 'savings',\n",
    "       'employment_duration', 'installment_rate',\n",
    "       'other_debtors', 'present_residence', 'property', 'age',\n",
    "       'other_installment_plans', 'housing', 'number_credits', 'job',\n",
    "       'people_liable', 'telephone', 'foreign_worker', 'credit_risk']\n",
    "train_cols= column_names[:-1]\n",
    "\n",
    "label = 'credit_risk'\n",
    "\n",
    "class_names = ['0','1']\n",
    "\n",
    "\n",
    "num_cols = ['duration','amount','age']\n",
    "cat_cols = ['status', 'credit_history', 'purpose', 'savings','employment_duration', \n",
    "            'installment_rate', 'other_debtors', 'present_residence', \n",
    "            'property', 'other_installment_plans', 'housing', 'number_credits', 'job',\n",
    "            'people_liable', 'telephone', 'foreign_worker']\n",
    "\n",
    "\n",
    "df =  pd.read_csv('./data/german_creditt.csv',sep=';')\n",
    "df = df.drop(['personal_status_sex'], axis=1)\n",
    "\n",
    "dic = { 'bad':'0' , 'good':'1'}\n",
    "df[label] = df[label].map(dic)\n"
   ]
  },
  {
   "cell_type": "code",
   "execution_count": 15,
   "id": "e4d2fc1d",
   "metadata": {},
   "outputs": [],
   "source": [
    "def label_dict(df, name):\n",
    "    dic_status = {}\n",
    "    lst = list(df[name].unique())\n",
    "    for i in range(len(lst)):\n",
    "        dic_status[lst[i]] = i \n",
    "    return dic_status\n",
    "\n",
    "def rev(dic):\n",
    "    return {v: k for k, v in dic.items()}\n",
    "\n",
    "# from categoric features to numeric features with maps\n",
    "# from numeric features to categoric features with inv_maps\n",
    "def encode(df, maps):\n",
    "    for i in cat_cols:\n",
    "        df[i] = df[i].map(maps[i]).astype('float')\n",
    "    return df\n",
    "    "
   ]
  },
  {
   "cell_type": "code",
   "execution_count": 16,
   "id": "7a67cf16",
   "metadata": {},
   "outputs": [],
   "source": [
    "maps = {'status':label_dict(df,'status'), 'credit_history':label_dict(df,'credit_history'), \n",
    "        'purpose':label_dict(df,'purpose'), 'savings':label_dict(df,'savings'),\n",
    "        'employment_duration':label_dict(df,'employment_duration'), \n",
    "        'installment_rate':label_dict(df,'installment_rate'), 'other_debtors':label_dict(df,'other_debtors'), \n",
    "        'present_residence':label_dict(df,'present_residence'), 'property':label_dict(df,'property'), \n",
    "        'other_installment_plans':label_dict(df,'other_installment_plans'), 'housing':label_dict(df,'housing'), \n",
    "        'number_credits':label_dict(df,'number_credits'), 'job':label_dict(df,'job'),\n",
    "        'people_liable':label_dict(df,'people_liable'), 'telephone':label_dict(df,'telephone'), \n",
    "        'foreign_worker':label_dict(df,'foreign_worker'),'credit_risk':label_dict(df,'credit_risk')}"
   ]
  },
  {
   "cell_type": "code",
   "execution_count": 18,
   "id": "d7219720",
   "metadata": {},
   "outputs": [],
   "source": [
    "X = df[train_cols]\n",
    "y = df[label]\n",
    "\n",
    "# Split dataset \n",
    "X_train, X_test, y_train, y_test = train_test_split(X, y, test_size=0.1, random_state=random_state)  \n",
    "\n",
    "train = X_train.join(y_train)\n",
    "test = X_test.join(y_test)"
   ]
  },
  {
   "cell_type": "code",
   "execution_count": 19,
   "id": "261c7d4a",
   "metadata": {},
   "outputs": [],
   "source": [
    "# Save datasets\n",
    "train.to_pickle(\"./Data/train.pkl\")\n",
    "test.to_pickle(\"./Data/test.pkl\")"
   ]
  },
  {
   "cell_type": "markdown",
   "id": "cf4ba989",
   "metadata": {},
   "source": [
    "---"
   ]
  },
  {
   "cell_type": "code",
   "execution_count": 20,
   "id": "dee2b101",
   "metadata": {},
   "outputs": [],
   "source": [
    "# encoding for training the model\n",
    "X_en = encode(X.copy(), maps)\n",
    "X_train_en, X_test_en = encode(X_train.copy(), maps), encode(X_test.copy(), maps)\n",
    "train_en = encode(train.copy(), maps)\n",
    "test_en = encode(test.copy(), maps)\n"
   ]
  },
  {
   "cell_type": "code",
   "execution_count": 21,
   "id": "bd1ac518",
   "metadata": {},
   "outputs": [
    {
     "name": "stdout",
     "output_type": "stream",
     "text": [
      "Score: 0.81\n"
     ]
    }
   ],
   "source": [
    "# Model\n",
    "model = RandomForestClassifier()\n",
    "model = model.fit(X_train_en, y_train)\n",
    "print('Score:', model.score(X_test_en, y_test))\n",
    "\n",
    "# save model\n",
    "model_path = './Model/model_rf.pkl'\n",
    "pickle.dump(model, open(model_path, \"wb\"))\n",
    "\n",
    "# load model\n",
    "#loaded_model = pickle.load(open(model_path, \"rb\"))"
   ]
  },
  {
   "cell_type": "code",
   "execution_count": 22,
   "id": "a4ffa354",
   "metadata": {},
   "outputs": [
    {
     "name": "stdout",
     "output_type": "stream",
     "text": [
      "Score: 0.8\n"
     ]
    }
   ],
   "source": [
    "# Model\n",
    "model = GradientBoostingClassifier(n_estimators=1000, learning_rate=0.5, max_depth=5, random_state=random_state)\n",
    "model = model.fit(X_train_en, y_train)\n",
    "print('Score:', model.score(X_test_en, y_test))\n",
    "\n",
    "# save model\n",
    "model_path = './Model/model_GBC.pkl'\n",
    "pickle.dump(model, open(model_path, \"wb\"))\n",
    "\n",
    "# load model\n",
    "#loaded_model = pickle.load(open(model_path, \"rb\"))"
   ]
  },
  {
   "cell_type": "markdown",
   "id": "b67d598c",
   "metadata": {},
   "source": [
    "---"
   ]
  },
  {
   "cell_type": "code",
   "execution_count": 23,
   "id": "bf0af25f",
   "metadata": {},
   "outputs": [],
   "source": [
    "def shapValues(X_train, model, class_names, label):\n",
    "        \n",
    "        if len(X_train)>300:\n",
    "            df = X_train.sample(300)\n",
    "        else:\n",
    "            df = X_train.copy()\n",
    "        \n",
    "        for column in df.columns:\n",
    "            if df[column].dtype not in ['int64']:\n",
    "                df[column] = df[column].astype('category').cat.codes\n",
    "\n",
    "        # Create shap kernel explainer using model and training data\n",
    "        explainer = shap.KernelExplainer(model.predict_proba, df)\n",
    "\n",
    "        # Shap values calculated by explainer\n",
    "        shap_values = explainer.shap_values(df)\n",
    "\n",
    "\n",
    "        # Create df from mean of shap values (map the order of features and classes)\n",
    "        mean_classes = []\n",
    "        for i in range(len(shap_values)):\n",
    "            mean_classes.append(np.mean(np.abs(shap_values[i]), axis=0))\n",
    "\n",
    "        shap_df = pd.DataFrame(mean_classes, index=class_names, \n",
    "                                    columns=X_train.columns.tolist())\n",
    "\n",
    "        num_class = len(shap_df)\n",
    "\n",
    "        # Wheight of label = 0 \n",
    "        shap_df[label] = np.zeros(num_class)\n",
    "        \n",
    "        # normalize shap values\n",
    "        shap_df =  shap_df.div(shap_df.sum(axis=1), axis=0)   \n",
    "        \n",
    "        return shap_df"
   ]
  },
  {
   "cell_type": "code",
   "execution_count": 24,
   "id": "0e64826e",
   "metadata": {},
   "outputs": [
    {
     "name": "stderr",
     "output_type": "stream",
     "text": [
      "Using 300 background data samples could cause slower run times. Consider using shap.sample(data, K) or shap.kmeans(data, K) to summarize the background as K samples.\n"
     ]
    },
    {
     "data": {
      "application/vnd.jupyter.widget-view+json": {
       "model_id": "73f6b8a95c7a46b18fba13e313df130c",
       "version_major": 2,
       "version_minor": 0
      },
      "text/plain": [
       "  0%|          | 0/300 [00:00<?, ?it/s]"
      ]
     },
     "metadata": {},
     "output_type": "display_data"
    }
   ],
   "source": [
    "shap_df = shapValues(X_train, model, class_names, label)"
   ]
  },
  {
   "cell_type": "code",
   "execution_count": 25,
   "id": "a2f69de8",
   "metadata": {},
   "outputs": [
    {
     "data": {
      "text/html": [
       "<div>\n",
       "<style scoped>\n",
       "    .dataframe tbody tr th:only-of-type {\n",
       "        vertical-align: middle;\n",
       "    }\n",
       "\n",
       "    .dataframe tbody tr th {\n",
       "        vertical-align: top;\n",
       "    }\n",
       "\n",
       "    .dataframe thead th {\n",
       "        text-align: right;\n",
       "    }\n",
       "</style>\n",
       "<table border=\"1\" class=\"dataframe\">\n",
       "  <thead>\n",
       "    <tr style=\"text-align: right;\">\n",
       "      <th></th>\n",
       "      <th>status</th>\n",
       "      <th>duration</th>\n",
       "      <th>credit_history</th>\n",
       "      <th>purpose</th>\n",
       "      <th>amount</th>\n",
       "      <th>savings</th>\n",
       "      <th>employment_duration</th>\n",
       "      <th>installment_rate</th>\n",
       "      <th>other_debtors</th>\n",
       "      <th>present_residence</th>\n",
       "      <th>property</th>\n",
       "      <th>age</th>\n",
       "      <th>other_installment_plans</th>\n",
       "      <th>housing</th>\n",
       "      <th>number_credits</th>\n",
       "      <th>job</th>\n",
       "      <th>people_liable</th>\n",
       "      <th>telephone</th>\n",
       "      <th>foreign_worker</th>\n",
       "      <th>credit_risk</th>\n",
       "    </tr>\n",
       "  </thead>\n",
       "  <tbody>\n",
       "    <tr>\n",
       "      <th>0</th>\n",
       "      <td>0.087489</td>\n",
       "      <td>0.065615</td>\n",
       "      <td>0.072804</td>\n",
       "      <td>0.094283</td>\n",
       "      <td>0.096175</td>\n",
       "      <td>0.029996</td>\n",
       "      <td>0.096546</td>\n",
       "      <td>0.062598</td>\n",
       "      <td>0.021956</td>\n",
       "      <td>0.027843</td>\n",
       "      <td>0.054467</td>\n",
       "      <td>0.081371</td>\n",
       "      <td>0.013236</td>\n",
       "      <td>0.052931</td>\n",
       "      <td>0.082674</td>\n",
       "      <td>0.020478</td>\n",
       "      <td>0.016878</td>\n",
       "      <td>0.013406</td>\n",
       "      <td>0.009256</td>\n",
       "      <td>0.0</td>\n",
       "    </tr>\n",
       "    <tr>\n",
       "      <th>1</th>\n",
       "      <td>0.087489</td>\n",
       "      <td>0.065615</td>\n",
       "      <td>0.072804</td>\n",
       "      <td>0.094283</td>\n",
       "      <td>0.096175</td>\n",
       "      <td>0.029996</td>\n",
       "      <td>0.096546</td>\n",
       "      <td>0.062598</td>\n",
       "      <td>0.021956</td>\n",
       "      <td>0.027843</td>\n",
       "      <td>0.054467</td>\n",
       "      <td>0.081371</td>\n",
       "      <td>0.013236</td>\n",
       "      <td>0.052931</td>\n",
       "      <td>0.082674</td>\n",
       "      <td>0.020478</td>\n",
       "      <td>0.016878</td>\n",
       "      <td>0.013406</td>\n",
       "      <td>0.009256</td>\n",
       "      <td>0.0</td>\n",
       "    </tr>\n",
       "  </tbody>\n",
       "</table>\n",
       "</div>"
      ],
      "text/plain": [
       "     status  duration  credit_history   purpose    amount   savings  \\\n",
       "0  0.087489  0.065615        0.072804  0.094283  0.096175  0.029996   \n",
       "1  0.087489  0.065615        0.072804  0.094283  0.096175  0.029996   \n",
       "\n",
       "   employment_duration  installment_rate  other_debtors  present_residence  \\\n",
       "0             0.096546          0.062598       0.021956           0.027843   \n",
       "1             0.096546          0.062598       0.021956           0.027843   \n",
       "\n",
       "   property       age  other_installment_plans   housing  number_credits  \\\n",
       "0  0.054467  0.081371                 0.013236  0.052931        0.082674   \n",
       "1  0.054467  0.081371                 0.013236  0.052931        0.082674   \n",
       "\n",
       "        job  people_liable  telephone  foreign_worker  credit_risk  \n",
       "0  0.020478       0.016878   0.013406        0.009256          0.0  \n",
       "1  0.020478       0.016878   0.013406        0.009256          0.0  "
      ]
     },
     "execution_count": 25,
     "metadata": {},
     "output_type": "execute_result"
    }
   ],
   "source": [
    "shap_df"
   ]
  },
  {
   "cell_type": "code",
   "execution_count": 26,
   "id": "981418d3",
   "metadata": {},
   "outputs": [],
   "source": [
    "shap_df.to_pickle(\"./temp_files/shap_df.pkl\")"
   ]
  },
  {
   "cell_type": "code",
   "execution_count": 27,
   "id": "50f8c6e8",
   "metadata": {},
   "outputs": [
    {
     "data": {
      "text/plain": [
       "<AxesSubplot: >"
      ]
     },
     "execution_count": 27,
     "metadata": {},
     "output_type": "execute_result"
    },
    {
     "data": {
      "image/png": "[encoded data removed]",
      "text/plain": [
       "<Figure size 432x288 with 1 Axes>"
      ]
     },
     "metadata": {
      "needs_background": "light"
     },
     "output_type": "display_data"
    }
   ],
   "source": [
    "shap_df[train_cols].T.plot.bar()"
   ]
  }
 ],
 "metadata": {
  "kernelspec": {
   "display_name": "Python 3 (ipykernel)",
   "language": "python",
   "name": "python3"
  },
  "language_info": {
   "codemirror_mode": {
    "name": "ipython",
    "version": 3
   },
   "file_extension": ".py",
   "mimetype": "text/x-python",
   "name": "python",
   "nbconvert_exporter": "python",
   "pygments_lexer": "ipython3",
   "version": "3.9.10"
  }
 },
 "nbformat": 4,
 "nbformat_minor": 5
}
