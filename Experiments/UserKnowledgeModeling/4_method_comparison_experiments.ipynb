{
 "cells": [
  {
   "cell_type": "raw",
   "id": "8e5823b9",
   "metadata": {},
   "source": [
    "java -DMYCBR.PROJECT.FILE=../Explainer/PertCF/myCBR_projects/userKnowledgeModeling.prj -jar ./target/mycbr-rest-2.0.jar"
   ]
  },
  {
   "cell_type": "code",
   "execution_count": 1,
   "id": "f98239c2",
   "metadata": {},
   "outputs": [],
   "source": [
    "import warnings\n",
    "import sys\n",
    "import shutil\n",
    "\n",
    "shutil.copy2('./../../myCBR_projects/userKnowledgeModeling_yedek.prj', './../../myCBR_projects/userKnowledgeModeling.prj') # complete target filename given\n",
    "\n",
    "warnings.filterwarnings(\"ignore\")\n",
    "sys.path.append('../../')\n",
    "sys.path.append('../')"
   ]
  },
  {
   "cell_type": "code",
   "execution_count": 2,
   "id": "07d3e363",
   "metadata": {},
   "outputs": [],
   "source": [
    "import seaborn as sns\n",
    "import random\n",
    "import pickle\n",
    "from PertCF import *"
   ]
  },
  {
   "cell_type": "code",
   "execution_count": 3,
   "id": "afb8c88d",
   "metadata": {},
   "outputs": [],
   "source": [
    "# Set random seed\n",
    "random_state = random.randint(0, 100)\n",
    "\n",
    "# Concept name\n",
    "concept = 'knowledge'\n",
    "column_names = ['STG','SCG','STR','LPR','PEG','UNS']\n",
    "class_names = ['0','1','2','3']\n",
    "cat_feat = []\n",
    "\n",
    "# Read data\n",
    "train = pd.read_pickle('./Data/unm_train.pkl')\n",
    "test =  pd.read_pickle('./Data/unm_test.pkl')\n",
    "\n",
    "train_cols = train.columns[0:-1]\n",
    "label = train.columns[-1]\n",
    "\n",
    "X_train, X_test, y_train, y_test = train[train_cols], test[train_cols], train[[label]], test[[label]]\n"
   ]
  },
  {
   "cell_type": "code",
   "execution_count": 4,
   "id": "861e608c",
   "metadata": {},
   "outputs": [],
   "source": [
    "def rev(dic):\n",
    "    return {v: k for k, v in dic.items()}\n",
    "\n",
    "# from categoric features to numeric features with maps\n",
    "# from numeric features to categoric features with inv_maps\n",
    "def encode(df, maps):\n",
    "    for i in cat_feat:\n",
    "        df[i] = df[i].map(maps[i]).astype('float')\n",
    "    return df\n",
    "\n",
    "maps = {}\n",
    "inv_maps = {}\n",
    "\n",
    "# encoding for training the model\n",
    "#X_en = encode(X.copy(), maps)\n",
    "X_train_en, X_test_en = encode(X_train.copy(), maps), encode(X_test.copy(), maps)\n",
    "train_en = encode(train.copy(), maps)\n",
    "test_en = encode(test.copy(), maps)"
   ]
  },
  {
   "cell_type": "code",
   "execution_count": 5,
   "id": "d17ca243",
   "metadata": {},
   "outputs": [],
   "source": [
    "# load model\n",
    "model = pickle.load(open('./Model/model_GBC.pkl', \"rb\"))\n",
    "\n",
    "# load shap_df\n",
    "shap_df = pd.read_pickle(\"./temp_files/shap_df.pkl\")"
   ]
  },
  {
   "cell_type": "code",
   "execution_count": 6,
   "id": "8bbd4488",
   "metadata": {},
   "outputs": [
    {
     "name": "stdout",
     "output_type": "stream",
     "text": [
      "Given Shap values used.\n",
      "\n",
      "API connection completed.\n",
      "\n",
      "Concept names:  ['knowledge']  Is correct:  True \n",
      "\n",
      "Casebase names:  [['cb_class1'], ['cb_class0'], ['cb_class3'], ['cb_class2']] \n",
      "\n",
      "Cases deleted from concept 'knowledge': True\n",
      "\n",
      "Cases imported to the casebases. \n",
      "\n",
      "Amalgamation functions created for every class using shap values. \n",
      "\n"
     ]
    }
   ],
   "source": [
    "explainer = Explainer(model, X_train, X_test, y_train, y_test, label, cat_feat, concept, shap_df=shap_df, maps=maps, inv_maps=inv_maps, num_iter=5)\n"
   ]
  },
  {
   "cell_type": "code",
   "execution_count": 7,
   "id": "4533bd86",
   "metadata": {
    "scrolled": true
   },
   "outputs": [
    {
     "name": "stdout",
     "output_type": "stream",
     "text": [
      "3\n"
     ]
    }
   ],
   "source": [
    "cf_list, res_list = explainer.testGenerateCF(coef_thresh = 3)"
   ]
  },
  {
   "cell_type": "code",
   "execution_count": 8,
   "id": "dfc7e4be",
   "metadata": {},
   "outputs": [
    {
     "data": {
      "text/plain": [
       "[0.06363029671641043,\n",
       " 0.05853658536585366,\n",
       " 0.06643612746207715,\n",
       " 0.2827342428812167]"
      ]
     },
     "execution_count": 8,
     "metadata": {},
     "output_type": "execute_result"
    }
   ],
   "source": [
    "res_list"
   ]
  },
  {
   "cell_type": "code",
   "execution_count": 27,
   "id": "cb1bad94",
   "metadata": {},
   "outputs": [
    {
     "data": {
      "text/plain": [
       "[0.06363029671641043,\n",
       " 0.05853658536585366,\n",
       " 0.06643612746207715,\n",
       " 0.30523154793716056]"
      ]
     },
     "execution_count": 27,
     "metadata": {},
     "output_type": "execute_result"
    }
   ],
   "source": [
    "res_list"
   ]
  },
  {
   "cell_type": "markdown",
   "id": "ec1a3346",
   "metadata": {},
   "source": [
    "-----------"
   ]
  },
  {
   "cell_type": "markdown",
   "id": "8a43d2c6",
   "metadata": {},
   "source": [
    "### DICE"
   ]
  },
  {
   "cell_type": "code",
   "execution_count": 9,
   "id": "87f27ad5",
   "metadata": {},
   "outputs": [],
   "source": [
    "import dice_ml\n",
    "\n",
    "# Dataset for training an ML model\n",
    "d = dice_ml.Data(dataframe=train_en,\n",
    "                 continuous_features=column_names[:-1],\n",
    "                 outcome_name=label)\n",
    "\n",
    "# Pre-trained ML model\n",
    "m = dice_ml.Model(model=model,backend='sklearn')\n",
    "# DiCE explanation instance\n",
    "dice_exp = dice_ml.Dice(d,m)"
   ]
  },
  {
   "cell_type": "code",
   "execution_count": 10,
   "id": "ae4a42a5",
   "metadata": {},
   "outputs": [
    {
     "name": "stderr",
     "output_type": "stream",
     "text": [
      "100%|█████████████████████████████████████████████| 1/1 [00:00<00:00, 19.52it/s]\n",
      "100%|█████████████████████████████████████████████| 1/1 [00:00<00:00, 23.23it/s]\n",
      "100%|█████████████████████████████████████████████| 1/1 [00:00<00:00, 29.91it/s]\n",
      "100%|█████████████████████████████████████████████| 1/1 [00:00<00:00, 26.38it/s]\n",
      "100%|█████████████████████████████████████████████| 1/1 [00:00<00:00, 27.08it/s]\n",
      "100%|█████████████████████████████████████████████| 1/1 [00:00<00:00, 23.29it/s]\n",
      "100%|█████████████████████████████████████████████| 1/1 [00:00<00:00, 30.32it/s]\n",
      "100%|█████████████████████████████████████████████| 1/1 [00:00<00:00, 27.35it/s]\n",
      "100%|█████████████████████████████████████████████| 1/1 [00:00<00:00, 26.26it/s]\n",
      "100%|█████████████████████████████████████████████| 1/1 [00:00<00:00, 26.82it/s]\n",
      "100%|█████████████████████████████████████████████| 1/1 [00:00<00:00, 28.49it/s]\n",
      "100%|█████████████████████████████████████████████| 1/1 [00:00<00:00, 29.27it/s]\n",
      "100%|█████████████████████████████████████████████| 1/1 [00:00<00:00, 24.52it/s]\n",
      "100%|█████████████████████████████████████████████| 1/1 [00:00<00:00, 25.62it/s]\n",
      "100%|█████████████████████████████████████████████| 1/1 [00:00<00:00, 28.40it/s]\n",
      "100%|█████████████████████████████████████████████| 1/1 [00:00<00:00, 24.38it/s]\n",
      "100%|█████████████████████████████████████████████| 1/1 [00:00<00:00, 26.12it/s]\n",
      "100%|█████████████████████████████████████████████| 1/1 [00:00<00:00, 25.80it/s]\n",
      "100%|█████████████████████████████████████████████| 1/1 [00:00<00:00, 26.27it/s]\n",
      "100%|█████████████████████████████████████████████| 1/1 [00:00<00:00, 21.79it/s]\n",
      "100%|█████████████████████████████████████████████| 1/1 [00:00<00:00, 25.75it/s]\n",
      "100%|█████████████████████████████████████████████| 1/1 [00:00<00:00, 26.81it/s]\n",
      "100%|█████████████████████████████████████████████| 1/1 [00:00<00:00, 25.31it/s]\n",
      "100%|█████████████████████████████████████████████| 1/1 [00:00<00:00, 29.50it/s]\n",
      "100%|█████████████████████████████████████████████| 1/1 [00:00<00:00, 29.28it/s]\n",
      "100%|█████████████████████████████████████████████| 1/1 [00:00<00:00, 23.84it/s]\n",
      "100%|█████████████████████████████████████████████| 1/1 [00:00<00:00, 28.83it/s]\n",
      "100%|█████████████████████████████████████████████| 1/1 [00:00<00:00, 23.76it/s]\n",
      "100%|█████████████████████████████████████████████| 1/1 [00:00<00:00, 18.20it/s]\n",
      "100%|█████████████████████████████████████████████| 1/1 [00:00<00:00, 25.48it/s]\n",
      "100%|█████████████████████████████████████████████| 1/1 [00:00<00:00, 23.46it/s]\n",
      "100%|█████████████████████████████████████████████| 1/1 [00:00<00:00, 26.00it/s]\n",
      "100%|█████████████████████████████████████████████| 1/1 [00:00<00:00, 25.49it/s]\n",
      "100%|█████████████████████████████████████████████| 1/1 [00:00<00:00, 26.97it/s]\n",
      "100%|█████████████████████████████████████████████| 1/1 [00:00<00:00, 26.21it/s]\n",
      "100%|█████████████████████████████████████████████| 1/1 [00:00<00:00, 25.15it/s]\n",
      "100%|█████████████████████████████████████████████| 1/1 [00:00<00:00, 22.92it/s]\n",
      "100%|█████████████████████████████████████████████| 1/1 [00:00<00:00, 21.92it/s]\n",
      "100%|█████████████████████████████████████████████| 1/1 [00:00<00:00, 21.80it/s]\n",
      "100%|█████████████████████████████████████████████| 1/1 [00:00<00:00, 27.66it/s]\n",
      "100%|█████████████████████████████████████████████| 1/1 [00:00<00:00, 26.01it/s]\n",
      "100%|█████████████████████████████████████████████| 1/1 [00:00<00:00, 26.53it/s]\n",
      "100%|█████████████████████████████████████████████| 1/1 [00:00<00:00, 25.76it/s]\n",
      "100%|█████████████████████████████████████████████| 1/1 [00:00<00:00, 28.02it/s]\n",
      "100%|█████████████████████████████████████████████| 1/1 [00:00<00:00, 26.13it/s]\n",
      "100%|█████████████████████████████████████████████| 1/1 [00:00<00:00, 30.05it/s]\n",
      "100%|█████████████████████████████████████████████| 1/1 [00:00<00:00, 26.41it/s]\n",
      "100%|█████████████████████████████████████████████| 1/1 [00:00<00:00, 26.80it/s]\n",
      "100%|█████████████████████████████████████████████| 1/1 [00:00<00:00, 26.51it/s]\n",
      "100%|█████████████████████████████████████████████| 1/1 [00:00<00:00, 25.47it/s]\n",
      "100%|█████████████████████████████████████████████| 1/1 [00:00<00:00, 27.58it/s]\n",
      "100%|█████████████████████████████████████████████| 1/1 [00:00<00:00, 28.21it/s]\n",
      "100%|█████████████████████████████████████████████| 1/1 [00:00<00:00, 26.45it/s]\n",
      "100%|█████████████████████████████████████████████| 1/1 [00:00<00:00, 26.03it/s]\n",
      "100%|█████████████████████████████████████████████| 1/1 [00:00<00:00, 26.19it/s]\n",
      "100%|█████████████████████████████████████████████| 1/1 [00:00<00:00, 26.82it/s]\n",
      "100%|█████████████████████████████████████████████| 1/1 [00:00<00:00, 25.97it/s]\n",
      "100%|█████████████████████████████████████████████| 1/1 [00:00<00:00, 26.92it/s]\n",
      "100%|█████████████████████████████████████████████| 1/1 [00:00<00:00, 27.51it/s]\n",
      "100%|█████████████████████████████████████████████| 1/1 [00:00<00:00, 28.36it/s]\n",
      "100%|█████████████████████████████████████████████| 1/1 [00:00<00:00, 27.80it/s]\n",
      "100%|█████████████████████████████████████████████| 1/1 [00:00<00:00, 28.59it/s]\n",
      "100%|█████████████████████████████████████████████| 1/1 [00:00<00:00, 27.25it/s]\n",
      "100%|█████████████████████████████████████████████| 1/1 [00:00<00:00, 10.04it/s]\n",
      "100%|█████████████████████████████████████████████| 1/1 [00:00<00:00, 26.35it/s]\n",
      "100%|█████████████████████████████████████████████| 1/1 [00:00<00:00, 10.18it/s]\n",
      "100%|█████████████████████████████████████████████| 1/1 [00:00<00:00, 27.90it/s]\n",
      "100%|█████████████████████████████████████████████| 1/1 [00:00<00:00, 28.14it/s]\n",
      "100%|█████████████████████████████████████████████| 1/1 [00:00<00:00, 27.55it/s]\n",
      "100%|█████████████████████████████████████████████| 1/1 [00:00<00:00, 28.83it/s]\n",
      "100%|█████████████████████████████████████████████| 1/1 [00:00<00:00, 27.18it/s]\n",
      "100%|█████████████████████████████████████████████| 1/1 [00:00<00:00, 25.84it/s]\n",
      "100%|█████████████████████████████████████████████| 1/1 [00:00<00:00, 29.89it/s]\n",
      "100%|█████████████████████████████████████████████| 1/1 [00:00<00:00, 28.59it/s]\n",
      "100%|█████████████████████████████████████████████| 1/1 [00:00<00:00, 28.78it/s]\n",
      "100%|█████████████████████████████████████████████| 1/1 [00:00<00:00, 27.83it/s]\n",
      "100%|█████████████████████████████████████████████| 1/1 [00:00<00:00, 27.82it/s]\n",
      "100%|█████████████████████████████████████████████| 1/1 [00:00<00:00, 27.72it/s]\n",
      "100%|█████████████████████████████████████████████| 1/1 [00:00<00:00, 27.65it/s]\n",
      "100%|█████████████████████████████████████████████| 1/1 [00:00<00:00, 27.04it/s]\n",
      "100%|█████████████████████████████████████████████| 1/1 [00:00<00:00, 28.49it/s]\n",
      "100%|█████████████████████████████████████████████| 1/1 [00:00<00:00, 28.75it/s]\n",
      "100%|█████████████████████████████████████████████| 1/1 [00:00<00:00, 29.61it/s]\n",
      "100%|█████████████████████████████████████████████| 1/1 [00:00<00:00, 29.45it/s]\n",
      "100%|█████████████████████████████████████████████| 1/1 [00:00<00:00, 29.41it/s]\n",
      "100%|█████████████████████████████████████████████| 1/1 [00:00<00:00, 26.70it/s]\n",
      "100%|█████████████████████████████████████████████| 1/1 [00:00<00:00, 26.60it/s]\n",
      "100%|█████████████████████████████████████████████| 1/1 [00:00<00:00, 27.88it/s]\n",
      "100%|█████████████████████████████████████████████| 1/1 [00:00<00:00, 25.67it/s]\n",
      "100%|█████████████████████████████████████████████| 1/1 [00:00<00:00, 25.95it/s]\n",
      "100%|█████████████████████████████████████████████| 1/1 [00:00<00:00, 27.27it/s]\n",
      "100%|█████████████████████████████████████████████| 1/1 [00:00<00:00, 28.51it/s]\n",
      "100%|█████████████████████████████████████████████| 1/1 [00:00<00:00, 26.87it/s]\n",
      "100%|█████████████████████████████████████████████| 1/1 [00:00<00:00, 29.85it/s]\n",
      "100%|█████████████████████████████████████████████| 1/1 [00:00<00:00, 27.08it/s]\n",
      "100%|█████████████████████████████████████████████| 1/1 [00:00<00:00, 29.52it/s]\n",
      "100%|█████████████████████████████████████████████| 1/1 [00:00<00:00, 27.15it/s]\n",
      "100%|█████████████████████████████████████████████| 1/1 [00:00<00:00, 28.10it/s]\n",
      "100%|█████████████████████████████████████████████| 1/1 [00:00<00:00, 29.11it/s]\n",
      "100%|█████████████████████████████████████████████| 1/1 [00:00<00:00, 27.69it/s]\n",
      "100%|█████████████████████████████████████████████| 1/1 [00:00<00:00, 28.97it/s]\n",
      "100%|█████████████████████████████████████████████| 1/1 [00:00<00:00, 26.81it/s]\n",
      "100%|█████████████████████████████████████████████| 1/1 [00:00<00:00, 29.92it/s]\n",
      "100%|█████████████████████████████████████████████| 1/1 [00:00<00:00, 28.77it/s]\n",
      "100%|█████████████████████████████████████████████| 1/1 [00:00<00:00, 29.46it/s]\n",
      "100%|█████████████████████████████████████████████| 1/1 [00:00<00:00, 28.27it/s]\n",
      "100%|█████████████████████████████████████████████| 1/1 [00:00<00:00, 29.07it/s]\n",
      "100%|█████████████████████████████████████████████| 1/1 [00:00<00:00, 28.93it/s]\n",
      "100%|█████████████████████████████████████████████| 1/1 [00:00<00:00, 29.99it/s]\n",
      "100%|█████████████████████████████████████████████| 1/1 [00:00<00:00, 29.23it/s]\n",
      "100%|█████████████████████████████████████████████| 1/1 [00:00<00:00, 29.38it/s]\n",
      "100%|█████████████████████████████████████████████| 1/1 [00:00<00:00, 29.66it/s]\n",
      "100%|█████████████████████████████████████████████| 1/1 [00:00<00:00, 29.34it/s]\n",
      "100%|█████████████████████████████████████████████| 1/1 [00:00<00:00, 29.83it/s]\n",
      "100%|█████████████████████████████████████████████| 1/1 [00:00<00:00, 29.99it/s]\n",
      "100%|█████████████████████████████████████████████| 1/1 [00:00<00:00, 29.84it/s]\n",
      "100%|█████████████████████████████████████████████| 1/1 [00:00<00:00, 28.69it/s]\n",
      "100%|█████████████████████████████████████████████| 1/1 [00:00<00:00, 28.80it/s]\n",
      "100%|█████████████████████████████████████████████| 1/1 [00:00<00:00, 28.14it/s]\n",
      "100%|█████████████████████████████████████████████| 1/1 [00:00<00:00, 27.09it/s]\n",
      "100%|█████████████████████████████████████████████| 1/1 [00:00<00:00, 28.55it/s]\n",
      "100%|█████████████████████████████████████████████| 1/1 [00:00<00:00, 27.30it/s]\n",
      "100%|█████████████████████████████████████████████| 1/1 [00:00<00:00, 28.12it/s]\n"
     ]
    }
   ],
   "source": [
    "dis_q = []\n",
    "spar_q = []\n",
    "ins_q = []\n",
    "time_q = []\n",
    "\n",
    "for i in range(len(y_test)):\n",
    "    query_instance = test_en.drop(columns=label)[i:i+1]\n",
    "    q_lbl = model.predict(query_instance)[0]#test_en[label][i:i+1].iloc[0]\n",
    "    \n",
    "    t_time = 0\n",
    "\n",
    "    for j in class_names:\n",
    "        if j != q_lbl:\n",
    "            start = t.time()\n",
    "            cf = dice_exp.generate_counterfactuals(query_instance, total_CFs=1, desired_class=int(j)).cf_examples_list[0].final_cfs_df\n",
    "            end = t.time()\n",
    "\n",
    "            for col in explainer.cat_col_names:\n",
    "                cf[col] = cf[col].map(inv_maps[col])\n",
    "                query_instance[col] = query_instance[col].map(inv_maps[col])\n",
    "\n",
    "            dis_q.append(explainer.dissimilarity(query_instance.iloc[0],cf.iloc[0])) \n",
    "            #den._findSimilarity(query_instance.iloc[0],cf.iloc[0])\n",
    "            spar_q.append(explainer.sparsity(query_instance.iloc[0],cf.iloc[0]))\n",
    "            ins_q.append(explainer.instability(query_instance.iloc[0],cf.iloc[0]))\n",
    "            t_time += end - start\n",
    "\n",
    "    time_q.append(t_time)\n",
    "\n"
   ]
  },
  {
   "cell_type": "code",
   "execution_count": 11,
   "id": "eba4fb52",
   "metadata": {},
   "outputs": [
    {
     "name": "stdout",
     "output_type": "stream",
     "text": [
      "Dissimilarity: 0.17272092236499165 \n",
      "Sparsity: 0.6422764227642276 \n",
      "Instabilty: 0.17689593510392093 \n",
      "Time: 0.11794748538877906\n"
     ]
    }
   ],
   "source": [
    "print('Dissimilarity:', mean(dis_q), \n",
    "     '\\nSparsity:', mean(spar_q), \n",
    "     '\\nInstabilty:', mean(ins_q),\n",
    "     '\\nTime:', mean(time_q))"
   ]
  },
  {
   "cell_type": "code",
   "execution_count": 12,
   "id": "394a0860",
   "metadata": {},
   "outputs": [],
   "source": [
    "dice_res = [mean(dis_q),mean(spar_q),mean(ins_q), mean(time_q)]"
   ]
  },
  {
   "cell_type": "markdown",
   "id": "0a7af5d3",
   "metadata": {},
   "source": [
    "---"
   ]
  },
  {
   "cell_type": "markdown",
   "id": "e4943399",
   "metadata": {},
   "source": [
    "### CF Shap"
   ]
  },
  {
   "cell_type": "code",
   "execution_count": 13,
   "id": "a60045b0",
   "metadata": {},
   "outputs": [],
   "source": [
    "from shap import Explanation\n",
    "\n",
    "from cfshap.utils import attrdict\n",
    "from cfshap.utils.preprocessing import EfficientQuantileTransformer\n",
    "from cfshap.counterfactuals import KNNCounterfactuals\n",
    "from cfshap.attribution import TreeExplainer, CompositeExplainer\n",
    "from cfshap.trend import TrendEstimator"
   ]
  },
  {
   "cell_type": "code",
   "execution_count": 14,
   "id": "df7bcf14",
   "metadata": {},
   "outputs": [
    {
     "data": {
      "text/html": [
       "<style>#sk-container-id-1 {color: black;background-color: white;}#sk-container-id-1 pre{padding: 0;}#sk-container-id-1 div.sk-toggleable {background-color: white;}#sk-container-id-1 label.sk-toggleable__label {cursor: pointer;display: block;width: 100%;margin-bottom: 0;padding: 0.3em;box-sizing: border-box;text-align: center;}#sk-container-id-1 label.sk-toggleable__label-arrow:before {content: \"▸\";float: left;margin-right: 0.25em;color: #696969;}#sk-container-id-1 label.sk-toggleable__label-arrow:hover:before {color: black;}#sk-container-id-1 div.sk-estimator:hover label.sk-toggleable__label-arrow:before {color: black;}#sk-container-id-1 div.sk-toggleable__content {max-height: 0;max-width: 0;overflow: hidden;text-align: left;background-color: #f0f8ff;}#sk-container-id-1 div.sk-toggleable__content pre {margin: 0.2em;color: black;border-radius: 0.25em;background-color: #f0f8ff;}#sk-container-id-1 input.sk-toggleable__control:checked~div.sk-toggleable__content {max-height: 200px;max-width: 100%;overflow: auto;}#sk-container-id-1 input.sk-toggleable__control:checked~label.sk-toggleable__label-arrow:before {content: \"▾\";}#sk-container-id-1 div.sk-estimator input.sk-toggleable__control:checked~label.sk-toggleable__label {background-color: #d4ebff;}#sk-container-id-1 div.sk-label input.sk-toggleable__control:checked~label.sk-toggleable__label {background-color: #d4ebff;}#sk-container-id-1 input.sk-hidden--visually {border: 0;clip: rect(1px 1px 1px 1px);clip: rect(1px, 1px, 1px, 1px);height: 1px;margin: -1px;overflow: hidden;padding: 0;position: absolute;width: 1px;}#sk-container-id-1 div.sk-estimator {font-family: monospace;background-color: #f0f8ff;border: 1px dotted black;border-radius: 0.25em;box-sizing: border-box;margin-bottom: 0.5em;}#sk-container-id-1 div.sk-estimator:hover {background-color: #d4ebff;}#sk-container-id-1 div.sk-parallel-item::after {content: \"\";width: 100%;border-bottom: 1px solid gray;flex-grow: 1;}#sk-container-id-1 div.sk-label:hover label.sk-toggleable__label {background-color: #d4ebff;}#sk-container-id-1 div.sk-serial::before {content: \"\";position: absolute;border-left: 1px solid gray;box-sizing: border-box;top: 0;bottom: 0;left: 50%;z-index: 0;}#sk-container-id-1 div.sk-serial {display: flex;flex-direction: column;align-items: center;background-color: white;padding-right: 0.2em;padding-left: 0.2em;position: relative;}#sk-container-id-1 div.sk-item {position: relative;z-index: 1;}#sk-container-id-1 div.sk-parallel {display: flex;align-items: stretch;justify-content: center;background-color: white;position: relative;}#sk-container-id-1 div.sk-item::before, #sk-container-id-1 div.sk-parallel-item::before {content: \"\";position: absolute;border-left: 1px solid gray;box-sizing: border-box;top: 0;bottom: 0;left: 50%;z-index: -1;}#sk-container-id-1 div.sk-parallel-item {display: flex;flex-direction: column;z-index: 1;position: relative;background-color: white;}#sk-container-id-1 div.sk-parallel-item:first-child::after {align-self: flex-end;width: 50%;}#sk-container-id-1 div.sk-parallel-item:last-child::after {align-self: flex-start;width: 50%;}#sk-container-id-1 div.sk-parallel-item:only-child::after {width: 0;}#sk-container-id-1 div.sk-dashed-wrapped {border: 1px dashed gray;margin: 0 0.4em 0.5em 0.4em;box-sizing: border-box;padding-bottom: 0.4em;background-color: white;}#sk-container-id-1 div.sk-label label {font-family: monospace;font-weight: bold;display: inline-block;line-height: 1.2em;}#sk-container-id-1 div.sk-label-container {text-align: center;}#sk-container-id-1 div.sk-container {/* jupyter's `normalize.less` sets `[hidden] { display: none; }` but bootstrap.min.css set `[hidden] { display: none !important; }` so we also need the `!important` here to be able to override the default hidden behavior on the sphinx rendered scikit-learn.org. See: https://github.com/scikit-learn/scikit-learn/issues/21755 */display: inline-block !important;position: relative;}#sk-container-id-1 div.sk-text-repr-fallback {display: none;}</style><div id=\"sk-container-id-1\" class=\"sk-top-container\"><div class=\"sk-text-repr-fallback\"><pre>EfficientQuantileTransformer()</pre><b>In a Jupyter environment, please rerun this cell to show the HTML representation or trust the notebook. <br />On GitHub, the HTML representation is unable to render, please try loading this page with nbviewer.org.</b></div><div class=\"sk-container\" hidden><div class=\"sk-item\"><div class=\"sk-estimator sk-toggleable\"><input class=\"sk-toggleable__control sk-hidden--visually\" id=\"sk-estimator-id-1\" type=\"checkbox\" checked><label for=\"sk-estimator-id-1\" class=\"sk-toggleable__label sk-toggleable__label-arrow\">EfficientQuantileTransformer</label><div class=\"sk-toggleable__content\"><pre>EfficientQuantileTransformer()</pre></div></div></div></div></div>"
      ],
      "text/plain": [
       "EfficientQuantileTransformer()"
      ]
     },
     "execution_count": 14,
     "metadata": {},
     "output_type": "execute_result"
    }
   ],
   "source": [
    "MAX_SAMPLES = 100\n",
    "\n",
    "# We will need a scaler in the input space for the counterfactual generator\n",
    "scaler = EfficientQuantileTransformer()\n",
    "scaler.fit(X_train_en.values)\n"
   ]
  },
  {
   "cell_type": "code",
   "execution_count": 15,
   "id": "4ef15bc7",
   "metadata": {},
   "outputs": [],
   "source": [
    "\n",
    "# Background/Counterfactuals generator\n",
    "background_generator = KNNCounterfactuals(\n",
    "    model=model,\n",
    "    X=X_train_en.values,\n",
    "    n_neighbors=10,\n",
    "    distance='cityblock',\n",
    "    scaler=scaler,\n",
    "    max_samples=MAX_SAMPLES,\n",
    ")\n",
    "\n",
    "# We will need a trend estimator for the attribution estimator\n",
    "trend_estimator = TrendEstimator(strategy='mean')\n",
    "\n"
   ]
  },
  {
   "cell_type": "code",
   "execution_count": 16,
   "id": "66436386",
   "metadata": {},
   "outputs": [],
   "source": [
    "dis_q = []\n",
    "spar_q = []\n",
    "ins_q = []\n",
    "time_q = []\n",
    "\n",
    "for i in range(len(y_test)):\n",
    "    query_instance = X_test_en.iloc[i:i+1]\n",
    "\n",
    "    start = t.time()\n",
    "    cf = background_generator.get_counterfactuals(query_instance.values)\n",
    "    end = t.time()\n",
    "\n",
    "    cf = pd.DataFrame(cf, columns = column_names[:-1])\n",
    "\n",
    "    for col in explainer.cat_col_names:\n",
    "        cf[col] = cf[col].map(inv_maps[col])\n",
    "        query_instance[col] = query_instance[col].map(inv_maps[col])\n",
    "       \n",
    "    dis_q.append(explainer.dissimilarity(query_instance.iloc[0],cf.iloc[0])) \n",
    "    spar_q.append(explainer.sparsity(query_instance.iloc[0],cf.iloc[0]))\n",
    "    ins_q.append(explainer.instability(query_instance.iloc[0],cf.iloc[0]))\n",
    "    time_q.append(end - start)\n"
   ]
  },
  {
   "cell_type": "code",
   "execution_count": 17,
   "id": "ba522111",
   "metadata": {},
   "outputs": [
    {
     "name": "stdout",
     "output_type": "stream",
     "text": [
      "Dissimilarity: 0.17917226203690792 \n",
      "Sparsity: 0.02926829268292683 \n",
      "Instabilty: 0.18061823880724262 \n",
      "Time: 0.0011229573226556545\n"
     ]
    }
   ],
   "source": [
    "print('Dissimilarity:', mean(dis_q), \n",
    "     '\\nSparsity:', mean(spar_q), \n",
    "     '\\nInstabilty:', mean(ins_q),\n",
    "     '\\nTime:', mean(time_q))"
   ]
  },
  {
   "cell_type": "code",
   "execution_count": 18,
   "id": "5be9622e",
   "metadata": {},
   "outputs": [],
   "source": [
    "cf_res = [mean(dis_q),mean(spar_q),mean(ins_q), mean(time_q)]"
   ]
  },
  {
   "cell_type": "code",
   "execution_count": 19,
   "id": "c4a4e71f",
   "metadata": {},
   "outputs": [
    {
     "data": {
      "text/plain": [
       "'./../../myCBR_projects/userKnowledgeModeling.prj'"
      ]
     },
     "execution_count": 19,
     "metadata": {},
     "output_type": "execute_result"
    }
   ],
   "source": [
    "shutil.copy2('./../../myCBR_projects/userKnowledgeModeling_yedek.prj', './../../myCBR_projects/userKnowledgeModeling.prj') # complete target filename given"
   ]
  },
  {
   "cell_type": "code",
   "execution_count": 32,
   "id": "964cacf0",
   "metadata": {},
   "outputs": [],
   "source": [
    "df = pd.DataFrame([cf_res,dice_res,res_list], columns=['dissimilarity', 'sparsity', 'instability', 'time'])\n",
    "df['model'] = ['CFshap','DICE','PertCF']"
   ]
  },
  {
   "cell_type": "code",
   "execution_count": 45,
   "id": "7326bb0d",
   "metadata": {},
   "outputs": [
    {
     "data": {
      "image/png": "[encoded data removed]",
      "text/plain": [
       "<Figure size 432x288 with 1 Axes>"
      ]
     },
     "metadata": {},
     "output_type": "display_data"
    }
   ],
   "source": [
    "sns.set_style(\"ticks\")\n",
    "sns.set_context(\"notebook\")\n",
    "\n",
    "sns.barplot(data=df.melt('model'), x=\"variable\", y='value', hue=\"model\", palette = 'Paired')\n",
    "\n",
    "\n",
    "plt.xlabel('Metric')\n",
    "plt.ylabel('Value')\n",
    "#plt.title('tt')\n",
    "\n",
    "plt.savefig('./Output/img/omparison_result.png', dpi=1200, bbox_inches='tight')\n",
    "#display barplot\n",
    "plt.show()"
   ]
  },
  {
   "cell_type": "code",
   "execution_count": 34,
   "id": "5821222b",
   "metadata": {},
   "outputs": [
    {
     "data": {
      "text/html": [
       "<div>\n",
       "<style scoped>\n",
       "    .dataframe tbody tr th:only-of-type {\n",
       "        vertical-align: middle;\n",
       "    }\n",
       "\n",
       "    .dataframe tbody tr th {\n",
       "        vertical-align: top;\n",
       "    }\n",
       "\n",
       "    .dataframe thead th {\n",
       "        text-align: right;\n",
       "    }\n",
       "</style>\n",
       "<table border=\"1\" class=\"dataframe\">\n",
       "  <thead>\n",
       "    <tr style=\"text-align: right;\">\n",
       "      <th></th>\n",
       "      <th>dissimilarity</th>\n",
       "      <th>sparsity</th>\n",
       "      <th>instability</th>\n",
       "      <th>time</th>\n",
       "      <th>model</th>\n",
       "    </tr>\n",
       "  </thead>\n",
       "  <tbody>\n",
       "    <tr>\n",
       "      <th>0</th>\n",
       "      <td>0.179172</td>\n",
       "      <td>0.029268</td>\n",
       "      <td>0.180618</td>\n",
       "      <td>0.001123</td>\n",
       "      <td>CFshap</td>\n",
       "    </tr>\n",
       "    <tr>\n",
       "      <th>1</th>\n",
       "      <td>0.172721</td>\n",
       "      <td>0.642276</td>\n",
       "      <td>0.176896</td>\n",
       "      <td>0.117947</td>\n",
       "      <td>DICE</td>\n",
       "    </tr>\n",
       "    <tr>\n",
       "      <th>2</th>\n",
       "      <td>0.063630</td>\n",
       "      <td>0.058537</td>\n",
       "      <td>0.066436</td>\n",
       "      <td>0.282734</td>\n",
       "      <td>PertCF</td>\n",
       "    </tr>\n",
       "  </tbody>\n",
       "</table>\n",
       "</div>"
      ],
      "text/plain": [
       "   dissimilarity  sparsity  instability      time   model\n",
       "0       0.179172  0.029268     0.180618  0.001123  CFshap\n",
       "1       0.172721  0.642276     0.176896  0.117947    DICE\n",
       "2       0.063630  0.058537     0.066436  0.282734  PertCF"
      ]
     },
     "execution_count": 34,
     "metadata": {},
     "output_type": "execute_result"
    }
   ],
   "source": [
    "df"
   ]
  }
 ],
 "metadata": {
  "kernelspec": {
   "display_name": "Python 3 (ipykernel)",
   "language": "python",
   "name": "python3"
  },
  "language_info": {
   "codemirror_mode": {
    "name": "ipython",
    "version": 3
   },
   "file_extension": ".py",
   "mimetype": "text/x-python",
   "name": "python",
   "nbconvert_exporter": "python",
   "pygments_lexer": "ipython3",
   "version": "3.9.10"
  }
 },
 "nbformat": 4,
 "nbformat_minor": 5
}
