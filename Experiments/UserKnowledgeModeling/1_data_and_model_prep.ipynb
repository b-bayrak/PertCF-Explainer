{
 "cells": [
  {
   "cell_type": "raw",
   "id": "154bfd8e",
   "metadata": {},
   "source": [
    "java -DMYCBR.PROJECT.FILE=../Explainer/PertCF/myCBR_projects/userKnowledgeModeling.prj -jar ./target/mycbr-rest-2.0.jar"
   ]
  },
  {
   "cell_type": "code",
   "execution_count": 1,
   "id": "45ed1710",
   "metadata": {},
   "outputs": [],
   "source": [
    "import warnings\n",
    "import sys\n",
    "\n",
    "warnings.filterwarnings(\"ignore\")\n",
    "sys.path.append('../../')"
   ]
  },
  {
   "cell_type": "code",
   "execution_count": 2,
   "id": "266d9427",
   "metadata": {},
   "outputs": [],
   "source": [
    "from sklearn.model_selection import train_test_split\n",
    "from sklearn.ensemble import RandomForestClassifier, GradientBoostingClassifier\n",
    "from PertCF import *\n",
    "import pandas as pd\n",
    "import numpy as np\n",
    "import pickle\n",
    "import random"
   ]
  },
  {
   "cell_type": "code",
   "execution_count": 3,
   "id": "7a67cf16",
   "metadata": {},
   "outputs": [],
   "source": [
    "# Set random seed\n",
    "random_state = random.randint(0, 100)\n",
    "# Concept name\n",
    "concept = 'knowledge'\n",
    "column_names = ['STG','SCG','STR','LPR','PEG','UNS']\n",
    "class_names = ['0','1','2','3']\n",
    "\n",
    "df =  pd.read_csv('./data/userKnowledgeModeling.csv', names=column_names, header=0, sep=\";\")\n",
    "\n",
    "# UNS is the label (categoric)\n",
    "df = df.astype({'UNS':'string'})\n",
    "\n",
    "# Drop unwanted columns and nan rows\n",
    "# df = df.drop(['race', 'native_country', 'education_num'], axis=1)\n",
    "# df = df.replace('?',np.nan).dropna()"
   ]
  },
  {
   "cell_type": "code",
   "execution_count": 4,
   "id": "e4d2fc1d",
   "metadata": {},
   "outputs": [
    {
     "name": "stdout",
     "output_type": "stream",
     "text": [
      "0 :  50\n",
      "1 :  129\n",
      "2 :  122\n",
      "3 :  102\n"
     ]
    }
   ],
   "source": [
    "for c in class_names:\n",
    "    print(c, ': ', len(df[df['UNS']==c]))"
   ]
  },
  {
   "cell_type": "code",
   "execution_count": 5,
   "id": "fb23829f",
   "metadata": {},
   "outputs": [],
   "source": [
    "cat_feat = []\n",
    "\n",
    "train_cols = df.columns[0:-1]\n",
    "label = df.columns[-1]\n",
    "\n",
    "\n",
    "for f in cat_feat:\n",
    "    df[f] = df[f].astype(\"category\")\n",
    "\n",
    "X = df[train_cols]\n",
    "y = df[label]\n",
    "\n",
    "# Split dataset \n",
    "X_train, X_test, y_train, y_test = train_test_split(X, y, test_size=0.1, random_state=random_state)  \n",
    "\n",
    "train = X_train.join(y_train)\n",
    "test = X_test.join(y_test)"
   ]
  },
  {
   "cell_type": "code",
   "execution_count": 6,
   "id": "261c7d4a",
   "metadata": {},
   "outputs": [],
   "source": [
    "# Save datasets\n",
    "train.to_pickle(\"./Data/unm_train.pkl\")\n",
    "test.to_pickle(\"./Data/unm_test.pkl\")"
   ]
  },
  {
   "cell_type": "markdown",
   "id": "cf4ba989",
   "metadata": {},
   "source": [
    "---"
   ]
  },
  {
   "cell_type": "code",
   "execution_count": 7,
   "id": "064ac315",
   "metadata": {},
   "outputs": [],
   "source": [
    "def rev(dic):\n",
    "    return {v: k for k, v in dic.items()}\n",
    "\n",
    "# from categoric features to numeric features with maps\n",
    "# from numeric features to categoric features with inv_maps\n",
    "def encode(df, maps):\n",
    "    for i in cat_feat:\n",
    "        df[i] = df[i].map(maps[i]).astype('float')\n",
    "    return df\n",
    "\n",
    "maps = {}\n",
    "inv_maps = {}"
   ]
  },
  {
   "cell_type": "code",
   "execution_count": 8,
   "id": "dee2b101",
   "metadata": {},
   "outputs": [],
   "source": [
    "# encoding for training the model\n",
    "X_en = encode(X.copy(), maps)\n",
    "X_train_en, X_test_en = encode(X_train.copy(), maps), encode(X_test.copy(), maps)\n",
    "train_en = encode(train.copy(), maps)\n",
    "test_en = encode(test.copy(), maps)\n"
   ]
  },
  {
   "cell_type": "code",
   "execution_count": 9,
   "id": "c79c0957",
   "metadata": {},
   "outputs": [
    {
     "name": "stdout",
     "output_type": "stream",
     "text": [
      "Score: 0.9512195121951219\n"
     ]
    }
   ],
   "source": [
    "# Model\n",
    "model = RandomForestClassifier()#GradientBoostingClassifier(n_estimators=100, learning_rate=1.0, max_depth=1, random_state=random_state)\n",
    "model = model.fit(X_train_en, y_train)\n",
    "print('Score:', model.score(X_test_en, y_test))\n",
    "\n",
    "# save model\n",
    "model_path = './Model/model_rf.pkl'\n",
    "pickle.dump(model, open(model_path, \"wb\"))\n",
    "\n",
    "# load model\n",
    "#loaded_model = pickle.load(open(model_path, \"rb\"))"
   ]
  },
  {
   "cell_type": "code",
   "execution_count": 10,
   "id": "33f76619",
   "metadata": {},
   "outputs": [
    {
     "name": "stdout",
     "output_type": "stream",
     "text": [
      "Score: 0.975609756097561\n"
     ]
    }
   ],
   "source": [
    "# Model\n",
    "model = GradientBoostingClassifier(n_estimators=100, learning_rate=1.0, max_depth=1, random_state=random_state)\n",
    "model = model.fit(X_train_en, y_train)\n",
    "print('Score:', model.score(X_test_en, y_test))\n",
    "\n",
    "# save model\n",
    "model_path = './Model/model_GBC.pkl'\n",
    "pickle.dump(model, open(model_path, \"wb\"))\n",
    "\n",
    "# load model\n",
    "#loaded_model = pickle.load(open(model_path, \"rb\"))"
   ]
  },
  {
   "cell_type": "code",
   "execution_count": 11,
   "id": "bf0af25f",
   "metadata": {},
   "outputs": [],
   "source": [
    "def shapValues(X_train, model, class_names, label):\n",
    "        \n",
    "        if len(X_train)>300:\n",
    "            df = X_train.sample(300)\n",
    "        else:\n",
    "            df = X_train.copy()\n",
    "        \n",
    "        for column in df.columns:\n",
    "            if df[column].dtype not in ['int64']:\n",
    "                df[column] = df[column].astype('category').cat.codes\n",
    "\n",
    "        # Create shap kernel explainer using model and training data\n",
    "        explainer = shap.KernelExplainer(model.predict_proba, df)\n",
    "\n",
    "        # Shap values calculated by explainer\n",
    "        shap_values = explainer.shap_values(df)\n",
    "\n",
    "\n",
    "        # Create df from mean of shap values (map the order of features and classes)\n",
    "        mean_classes = []\n",
    "        for i in range(len(shap_values)):\n",
    "            mean_classes.append(np.mean(np.abs(shap_values[i]), axis=0))\n",
    "\n",
    "        shap_df = pd.DataFrame(mean_classes, index=class_names, \n",
    "                                    columns=X_train.columns.tolist())\n",
    "\n",
    "        num_class = len(shap_df)\n",
    "\n",
    "        # Wheight of label = 0 \n",
    "        shap_df[label] = np.zeros(num_class)\n",
    "        \n",
    "        # normalize shap values\n",
    "        shap_df =  shap_df.div(shap_df.sum(axis=1), axis=0)   \n",
    "        \n",
    "        return shap_df"
   ]
  },
  {
   "cell_type": "code",
   "execution_count": 12,
   "id": "0e64826e",
   "metadata": {},
   "outputs": [
    {
     "name": "stderr",
     "output_type": "stream",
     "text": [
      "Using 300 background data samples could cause slower run times. Consider using shap.sample(data, K) or shap.kmeans(data, K) to summarize the background as K samples.\n"
     ]
    },
    {
     "data": {
      "application/vnd.jupyter.widget-view+json": {
       "model_id": "5aa6f9bc4920426db4380a1000b3b0a3",
       "version_major": 2,
       "version_minor": 0
      },
      "text/plain": [
       "  0%|          | 0/300 [00:00<?, ?it/s]"
      ]
     },
     "metadata": {},
     "output_type": "display_data"
    }
   ],
   "source": [
    "shap_df = shapValues(X_train, model, class_names, label)"
   ]
  },
  {
   "cell_type": "code",
   "execution_count": 13,
   "id": "a2f69de8",
   "metadata": {},
   "outputs": [
    {
     "data": {
      "text/html": [
       "<div>\n",
       "<style scoped>\n",
       "    .dataframe tbody tr th:only-of-type {\n",
       "        vertical-align: middle;\n",
       "    }\n",
       "\n",
       "    .dataframe tbody tr th {\n",
       "        vertical-align: top;\n",
       "    }\n",
       "\n",
       "    .dataframe thead th {\n",
       "        text-align: right;\n",
       "    }\n",
       "</style>\n",
       "<table border=\"1\" class=\"dataframe\">\n",
       "  <thead>\n",
       "    <tr style=\"text-align: right;\">\n",
       "      <th></th>\n",
       "      <th>STG</th>\n",
       "      <th>SCG</th>\n",
       "      <th>STR</th>\n",
       "      <th>LPR</th>\n",
       "      <th>PEG</th>\n",
       "      <th>UNS</th>\n",
       "    </tr>\n",
       "  </thead>\n",
       "  <tbody>\n",
       "    <tr>\n",
       "      <th>0</th>\n",
       "      <td>0.063793</td>\n",
       "      <td>0.064516</td>\n",
       "      <td>0.179009</td>\n",
       "      <td>0.268393</td>\n",
       "      <td>0.424290</td>\n",
       "      <td>0.0</td>\n",
       "    </tr>\n",
       "    <tr>\n",
       "      <th>1</th>\n",
       "      <td>0.066289</td>\n",
       "      <td>0.019689</td>\n",
       "      <td>0.251258</td>\n",
       "      <td>0.414016</td>\n",
       "      <td>0.248748</td>\n",
       "      <td>0.0</td>\n",
       "    </tr>\n",
       "    <tr>\n",
       "      <th>2</th>\n",
       "      <td>0.170029</td>\n",
       "      <td>0.132444</td>\n",
       "      <td>0.252231</td>\n",
       "      <td>0.197508</td>\n",
       "      <td>0.247788</td>\n",
       "      <td>0.0</td>\n",
       "    </tr>\n",
       "    <tr>\n",
       "      <th>3</th>\n",
       "      <td>0.039136</td>\n",
       "      <td>0.046183</td>\n",
       "      <td>0.219762</td>\n",
       "      <td>0.230542</td>\n",
       "      <td>0.464376</td>\n",
       "      <td>0.0</td>\n",
       "    </tr>\n",
       "  </tbody>\n",
       "</table>\n",
       "</div>"
      ],
      "text/plain": [
       "        STG       SCG       STR       LPR       PEG  UNS\n",
       "0  0.063793  0.064516  0.179009  0.268393  0.424290  0.0\n",
       "1  0.066289  0.019689  0.251258  0.414016  0.248748  0.0\n",
       "2  0.170029  0.132444  0.252231  0.197508  0.247788  0.0\n",
       "3  0.039136  0.046183  0.219762  0.230542  0.464376  0.0"
      ]
     },
     "execution_count": 13,
     "metadata": {},
     "output_type": "execute_result"
    }
   ],
   "source": [
    "shap_df"
   ]
  },
  {
   "cell_type": "code",
   "execution_count": 14,
   "id": "981418d3",
   "metadata": {},
   "outputs": [],
   "source": [
    "shap_df.to_pickle(\"./temp_files/shap_df.pkl\")"
   ]
  },
  {
   "cell_type": "code",
   "execution_count": 15,
   "id": "50f8c6e8",
   "metadata": {},
   "outputs": [
    {
     "data": {
      "text/plain": [
       "<AxesSubplot: >"
      ]
     },
     "execution_count": 15,
     "metadata": {},
     "output_type": "execute_result"
    },
    {
     "data": {
      "image/png": "[encoded data removed]",
      "text/plain": [
       "<Figure size 432x288 with 1 Axes>"
      ]
     },
     "metadata": {
      "needs_background": "light"
     },
     "output_type": "display_data"
    }
   ],
   "source": [
    "shap_df[['STG','SCG','STR','LPR','PEG']].T.plot.bar()"
   ]
  },
  {
   "cell_type": "code",
   "execution_count": 14,
   "id": "7146de54",
   "metadata": {},
   "outputs": [],
   "source": [
    "a = pd.read_pickle(\"./temp_files/shap_df.pkl\")"
   ]
  },
  {
   "cell_type": "code",
   "execution_count": 15,
   "id": "7de88ff8",
   "metadata": {},
   "outputs": [],
   "source": [
    "a.index = ['class 0','class 1','class 2','class 3']"
   ]
  },
  {
   "cell_type": "code",
   "execution_count": 50,
   "id": "0c195369",
   "metadata": {},
   "outputs": [
    {
     "data": {
      "image/png": "[encoded data removed]",
      "text/plain": [
       "<Figure size 432x288 with 1 Axes>"
      ]
     },
     "metadata": {
      "needs_background": "light"
     },
     "output_type": "display_data"
    }
   ],
   "source": [
    "ag = a[['STG','SCG','STR','LPR','PEG']].T.plot.bar(cmap='Set2')\n",
    "ag.figure.savefig('./Output/img/shap.png', dpi=1200, bbox_inches='tight')"
   ]
  }
 ],
 "metadata": {
  "kernelspec": {
   "display_name": "Python 3 (ipykernel)",
   "language": "python",
   "name": "python3"
  },
  "language_info": {
   "codemirror_mode": {
    "name": "ipython",
    "version": 3
   },
   "file_extension": ".py",
   "mimetype": "text/x-python",
   "name": "python",
   "nbconvert_exporter": "python",
   "pygments_lexer": "ipython3",
   "version": "3.9.10"
  }
 },
 "nbformat": 4,
 "nbformat_minor": 5
}
